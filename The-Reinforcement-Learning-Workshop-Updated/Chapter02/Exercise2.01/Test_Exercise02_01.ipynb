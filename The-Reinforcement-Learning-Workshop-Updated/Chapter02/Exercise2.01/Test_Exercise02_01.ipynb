{
 "cells": [
  {
   "cell_type": "code",
   "execution_count": 1,
   "metadata": {},
   "outputs": [],
   "source": [
    "import import_ipynb\n",
    "import numpy as np\n",
    "import unittest\n",
    "\n",
    "\n",
    "class TestExercise02_01(unittest.TestCase):\n",
    "    def setUp(self):\n",
    "        import Exercise02_01\n",
    "\n",
    "        self.exercise = Exercise02_01\n",
    "\n",
    "    def test_P(self):\n",
    "        print(\"Testing P...\")\n",
    "        P_true = np.loadtxt(\"solution/P.txt\")\n",
    "        self.assertTrue(np.allclose(P_true, self.exercise.P))\n",
    "        self.assertTrue((np.sum(self.exercise.P, axis=1) == 1).all())\n",
    "\n",
    "    def test_R(self):\n",
    "        print(\"Testing R...\")\n",
    "        R_expected_true = np.loadtxt(\"solution/R_expected.txt\").reshape(3, 1)\n",
    "        self.assertTrue(np.allclose(R_expected_true, self.exercise.R_expected))\n",
    "\n",
    "    def test_V(self):\n",
    "        print(\"Testing V...\")\n",
    "        V_true = np.loadtxt(\"solution/V.txt\").reshape(3, 1)\n",
    "        self.assertTrue(np.allclose(V_true, self.exercise.V))"
   ]
  },
  {
   "cell_type": "code",
   "execution_count": 2,
   "metadata": {},
   "outputs": [
    {
     "name": "stderr",
     "output_type": "stream",
     "text": [
      "test_P (__main__.TestExercise02_01) ... ok\n",
      "test_R (__main__.TestExercise02_01) ... ok\n",
      "test_V (__main__.TestExercise02_01) ... "
     ]
    },
    {
     "name": "stdout",
     "output_type": "stream",
     "text": [
      "importing Jupyter notebook from Exercise02_01.ipynb\n",
      "Testing P...\n",
      "Testing R...\n",
      "Testing V...\n"
     ]
    },
    {
     "name": "stderr",
     "output_type": "stream",
     "text": [
      "ok\n",
      "\n",
      "----------------------------------------------------------------------\n",
      "Ran 3 tests in 0.082s\n",
      "\n",
      "OK\n"
     ]
    },
    {
     "data": {
      "text/plain": [
       "<unittest.runner.TextTestResult run=3 errors=0 failures=0>"
      ]
     },
     "execution_count": 2,
     "metadata": {},
     "output_type": "execute_result"
    }
   ],
   "source": [
    "suite = unittest.TestLoader().loadTestsFromTestCase(TestExercise02_01)\n",
    "unittest.TextTestRunner(verbosity=2).run(suite)"
   ]
  }
 ],
 "metadata": {
  "kernelspec": {
   "display_name": "Python 3",
   "language": "python",
   "name": "python3"
  },
  "language_info": {
   "codemirror_mode": {
    "name": "ipython",
    "version": 3
   },
   "file_extension": ".py",
   "mimetype": "text/x-python",
   "name": "python",
   "nbconvert_exporter": "python",
   "pygments_lexer": "ipython3",
   "version": "3.6.8"
  }
 },
 "nbformat": 4,
 "nbformat_minor": 4
}

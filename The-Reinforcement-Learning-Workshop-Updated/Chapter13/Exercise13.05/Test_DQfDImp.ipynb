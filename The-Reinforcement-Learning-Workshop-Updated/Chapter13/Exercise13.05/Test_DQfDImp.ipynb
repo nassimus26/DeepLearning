{
 "cells": [
  {
   "cell_type": "code",
   "execution_count": 5,
   "metadata": {},
   "outputs": [],
   "source": [
    "import unittest\n",
    "import import_ipynb\n",
    "import gym\n",
    "import tensorflow as tf\n",
    "import tensorflow.compat.v1 as tfc\n",
    "\n",
    "class Configure():\n",
    "    env = gym.make('CartPole-v1')\n",
    "    gamma = 0.99\n",
    "    eps_init = 1\n",
    "    eps_fin = 0.01\n",
    "    decay = 0.999\n",
    "    start_train = 1000\n",
    "    minibatch = 1\n",
    "    update = 1000\n",
    "    alpha = 0.001\n",
    "    ratio = 0.1\n",
    "    lamb = [1.0, 0.0, 0.99, 10e-6]\n",
    "    pretraining = 5000\n",
    "    \n",
    "    demo_buffer_size = 100*5\n",
    "    replay_buffer_size = demo_buffer_size *2\n",
    "    iterate = 5\n",
    "    eps = 300\n",
    "    tra = 10\n",
    "\n",
    "\n",
    "class TestDQfDImp(unittest.TestCase):\n",
    "    \n",
    "    def setUp(self):\n",
    "        import DQfDImp\n",
    "        self.exercises = DQfDImp\n",
    "        \n",
    "        \n",
    "        \n",
    "    def test_include_trajectories(self):\n",
    "        state = 0\n",
    "        act = 0\n",
    "        new_state = 0\n",
    "        reward = 0\n",
    "        done  = False\n",
    "        trajectories = [[state,act,new_state, reward, done]]\n",
    "        env = Configure.env\n",
    "\n",
    "        ag = self.exercises.DQfDAgent(Configure.env, Configure(), trajectories)\n",
    "\n",
    "        self.assertIsNone(ag.include_trajectories(trajectories))\n",
    "    \n",
    "\n",
    "    \n",
    "    def test_neural_net_layers(self):\n",
    "        env = Configure.env\n",
    "        state = env.reset()\n",
    "        action = env.action_space.sample()\n",
    "        new_state, reward, done, _ = env.step(action)\n",
    "        trajectories = [[state,action, reward, new_state, done]]\n",
    "        ag = self.exercises.DQfDAgent(Configure.env, Configure(), trajectories)\n",
    "        nnet = ag.neural_net_layers(24,24, reg = tf.keras.regularizers.l2(l=0.2))\n",
    "        print(nnet.summary())\n",
    "        self.assertEqual(len(nnet.get_weights()),6)\n",
    "        \n",
    "    def test_greedy_act(self):\n",
    "        env = Configure.env\n",
    "        state = env.reset()\n",
    "        action = env.action_space.sample()\n",
    "        new_state, reward, done, _ = env.step(action)\n",
    "        trajectories = [[state,action,reward, new_state,  done]]\n",
    "        ag = self.exercises.DQfDAgent(Configure.env, Configure(), trajectories)\n",
    "        nnet = ag.neural_net_layers(24,24, reg = tf.keras.regularizers.l2(l=0.2))\n",
    "#         print(new_state.reshape(1, 4))\n",
    "#         print(nnet.predict(new_state.reshape(1, 4))[0])\n",
    "        self.assertEqual(ag.greedy_act(new_state,nnet), 0)\n",
    "   \n",
    "        \n",
    "    def test_train_network(self):\n",
    "        env = Configure.env\n",
    "        state = env.reset()\n",
    "        action = env.action_space.sample()\n",
    "        new_state, reward, done, _ = env.step(action)\n",
    "        trajectories = [[state,action,reward, new_state, done, 24, 4, 4, 4, 2]]\n",
    "        ag = self.exercises.DQfDAgent(Configure.env, Configure(), trajectories)\n",
    "        self.assertEqual(len(ag.train_network()),5)\n",
    "        \n",
    "        \n",
    "#     def test_loss_selec(self):\n",
    "#         env = Configure.env\n",
    "#         state = env.reset()\n",
    "#         action = env.action_space.sample()\n",
    "#         new_state, reward, done, _ = env.step(action)\n",
    "#         trajectories = [[state,action,new_state, reward, done]]\n",
    "#         ag = self.exercises.DQfDAgent(Configure.env, Configure(), trajectories)\n",
    "#         Q_select = ag.select_q()\n",
    "#         print(ag.loss())\n",
    "# #         self.assertEqual(len(nnet.get_weights()),6)\n",
    "        \n",
    "    "
   ]
  },
  {
   "cell_type": "code",
   "execution_count": 6,
   "metadata": {
    "scrolled": false
   },
   "outputs": [
    {
     "name": "stderr",
     "output_type": "stream",
     "text": [
      "test_greedy_act (__main__.TestDQfDImp) ... c:\\users\\ac7413\\appdata\\local\\programs\\python\\python37\\lib\\site-packages\\tensorflow_core\\python\\client\\session.py:1752: UserWarning: An interactive session is already active. This can cause out-of-memory errors in some cases. You must explicitly call `InteractiveSession.close()` to release resources held by the other session(s).\n",
      "  warnings.warn('An interactive session is already active. This can '\n",
      "ok\n",
      "test_include_trajectories (__main__.TestDQfDImp) ... ok\n",
      "test_neural_net_layers (__main__.TestDQfDImp) ... ok\n",
      "test_train_network (__main__.TestDQfDImp) ... "
     ]
    },
    {
     "name": "stdout",
     "output_type": "stream",
     "text": [
      "Model: \"sequential_14\"\n",
      "_________________________________________________________________\n",
      "Layer (type)                 Output Shape              Param #   \n",
      "=================================================================\n",
      "dense_40 (Dense)             (None, 24)                120       \n",
      "_________________________________________________________________\n",
      "dense_41 (Dense)             (None, 24)                600       \n",
      "_________________________________________________________________\n",
      "dense_42 (Dense)             (None, 2)                 50        \n",
      "=================================================================\n",
      "Total params: 770\n",
      "Trainable params: 770\n",
      "Non-trainable params: 0\n",
      "_________________________________________________________________\n",
      "None\n"
     ]
    },
    {
     "name": "stderr",
     "output_type": "stream",
     "text": [
      "ok\n",
      "\n",
      "----------------------------------------------------------------------\n",
      "Ran 4 tests in 0.841s\n",
      "\n",
      "OK\n"
     ]
    },
    {
     "data": {
      "text/plain": [
       "<unittest.runner.TextTestResult run=4 errors=0 failures=0>"
      ]
     },
     "execution_count": 6,
     "metadata": {},
     "output_type": "execute_result"
    }
   ],
   "source": [
    "suite = unittest.TestLoader().loadTestsFromTestCase(TestDQfDImp)\n",
    "unittest.TextTestRunner(verbosity=2).run(suite)"
   ]
  }
 ],
 "metadata": {
  "kernelspec": {
   "display_name": "Python 3",
   "language": "python",
   "name": "python3"
  },
  "language_info": {
   "codemirror_mode": {
    "name": "ipython",
    "version": 3
   },
   "file_extension": ".py",
   "mimetype": "text/x-python",
   "name": "python",
   "nbconvert_exporter": "python",
   "pygments_lexer": "ipython3",
   "version": "3.7.3"
  }
 },
 "nbformat": 4,
 "nbformat_minor": 1
}
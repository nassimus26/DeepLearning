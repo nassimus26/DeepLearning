{
 "cells": [
  {
   "cell_type": "code",
   "execution_count": 13,
   "metadata": {},
   "outputs": [],
   "source": [
    "import unittest\n",
    "import import_ipynb\n",
    "import numpy as np\n",
    "\n",
    "class TestExercise12_2(unittest.TestCase):\n",
    "    def setUp(self):\n",
    "        import Exercise_12_2\n",
    "        self.exercises = Exercise_12_2\n",
    "    def test_funct1(self):\n",
    "        print(\"Testing loss function\")\n",
    "        result = self.exercises.funct(1,5)\n",
    "        self.assertEqual(result, 33)\n",
    "        self.assertEqual(self.exercises.initial_position[0].numpy(), 5)\n",
    "        self.assertEqual(self.exercises.initial_position[1].numpy(), 10)\n",
    "        self.assertNotEqual(self.exercises.optimizer1.objective_value.numpy(), -18.2)\n",
    "        self.assertEqual(round(self.exercises.optimizer1.position[0].numpy(),1), 4)\n",
    "        self.assertEqual(round(self.exercises.optimizer1.position[1].numpy(),1), -1.5)\n",
    "    def test_funct2(self):\n",
    "        print(\"Testing loss function\")\n",
    "        result = self.exercises.funct(1,5)\n",
    "        self.assertEqual(result, 33)\n",
    "        self.assertNotEqual(self.exercises.optimizer2.objective_value.numpy(), -18.2)\n",
    "        a = self.exercises.optimizer2.position[0].numpy()\n",
    "        b = self.exercises.optimizer2.position[1].numpy()\n",
    "        self.assertEqual(round(a), 4)\n",
    "        self.assertEqual(round(b,1), -1.5)\n"
   ]
  },
  {
   "cell_type": "code",
   "execution_count": null,
   "outputs": [],
   "source": [
    "suite = unittest.TestLoader().loadTestsFromTestCase(TestExercise12_2)\n",
    "unittest.TextTestRunner(verbosity=2).run(suite)"
   ],
   "metadata": {
    "collapsed": false,
    "pycharm": {
     "name": "#%%\n"
    }
   }
  },
  {
   "cell_type": "code",
   "execution_count": 14,
   "metadata": {},
   "outputs": [
    {
     "name": "stderr",
     "output_type": "stream",
     "text": [
      "test_funct1 (__main__.TestExercise12_2) ... ok\n",
      "test_funct2 (__main__.TestExercise12_2) ... "
     ]
    },
    {
     "name": "stdout",
     "output_type": "stream",
     "text": [
      "Testing loss function\n",
      "Testing loss function\n"
     ]
    },
    {
     "name": "stderr",
     "output_type": "stream",
     "text": [
      "ok\n",
      "\n",
      "----------------------------------------------------------------------\n",
      "Ran 2 tests in 0.003s\n",
      "\n",
      "OK\n"
     ]
    },
    {
     "data": {
      "text/plain": [
       "<unittest.runner.TextTestResult run=2 errors=0 failures=0>"
      ]
     },
     "execution_count": 14,
     "metadata": {},
     "output_type": "execute_result"
    }
   ],
   "source": [
    "suite = unittest.TestLoader().loadTestsFromTestCase(TestExercise12_2)\n",
    "unittest.TextTestRunner(verbosity=2).run(suite)"
   ]
  }
 ],
 "metadata": {
  "kernelspec": {
   "display_name": "Python 3",
   "language": "python",
   "name": "python3"
  },
  "language_info": {
   "codemirror_mode": {
    "name": "ipython",
    "version": 3
   },
   "file_extension": ".py",
   "mimetype": "text/x-python",
   "name": "python",
   "nbconvert_exporter": "python",
   "pygments_lexer": "ipython3",
   "version": "3.7.3"
  }
 },
 "nbformat": 4,
 "nbformat_minor": 1
}
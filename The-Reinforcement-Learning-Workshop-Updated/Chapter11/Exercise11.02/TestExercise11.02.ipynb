{
 "cells": [
  {
   "cell_type": "code",
   "execution_count": 1,
   "metadata": {},
   "outputs": [],
   "source": [
    "import unittest\n",
    "import import_ipynb\n",
    "import gym\n",
    "\n",
    "class TestExercise11_02(unittest.TestCase):\n",
    "    def setUp(self):\n",
    "        import Exercise11_02\n",
    "        self.exercises = Exercise11_02\n",
    "    \n",
    "    def test_i(self):\n",
    "        self.assertEqual(self.exercises.i < 99, False)"
   ]
  },
  {
   "cell_type": "code",
   "execution_count": 2,
   "metadata": {},
   "outputs": [
    {
     "name": "stderr",
     "output_type": "stream",
     "text": [
      "test_i (__main__.TestExercise11_02) ... "
     ]
    },
    {
     "name": "stdout",
     "output_type": "stream",
     "text": [
      "importing Jupyter notebook from Exercise11_02.ipynb\n",
      "Episode 0\tReward: 2.0686593277955865\n",
      "Episode 1\tReward: -2.0000116196884448\n",
      "Episode 2\tReward: -0.7120581827924468\n",
      "Episode 3\tReward: -0.9139951098562336\n",
      "Episode 4\tReward: 0.41101801937325033\n",
      "Episode 5\tReward: -1.0245396008331056\n",
      "Episode 6\tReward: -0.8832102404432647\n",
      "Episode 7\tReward: -1.096824570884604\n",
      "Episode 8\tReward: -0.5919969162801294\n",
      "Episode 9\tReward: -1.0134440714625328\n",
      "Episode 10\tReward: -0.20228332749452987\n",
      "Episode 11\tReward: 0.34826402424982916\n",
      "Episode 12\tReward: -1.074403585059906\n",
      "Episode 13\tReward: 0.012109395484185381\n",
      "Episode 14\tReward: 0.28737559612836777\n",
      "Episode 15\tReward: -0.6971454339079173\n",
      "Episode 16\tReward: -0.24292040280377022\n",
      "Episode 17\tReward: -1.2473342721817573\n",
      "Episode 18\tReward: -0.30678451310380406\n",
      "Episode 19\tReward: -1.1802381554471424\n",
      "Episode 20\tReward: -1.1181571112786401\n",
      "Episode 21\tReward: -0.5886678775336577\n",
      "Episode 22\tReward: -0.5198732692408953\n",
      "Episode 23\tReward: -0.7992812942838441\n",
      "Episode 24\tReward: -0.6891591589026689\n",
      "Episode 25\tReward: -1.0548799512296796\n",
      "Episode 26\tReward: -1.4046529125420761\n",
      "Episode 27\tReward: -0.6792070935926802\n",
      "Episode 28\tReward: -1.1252069483252\n",
      "Episode 29\tReward: -1.403175309614386\n",
      "Episode 30\tReward: -1.3630767243776063\n",
      "Episode 31\tReward: -0.6027883311437563\n",
      "Episode 32\tReward: -1.1166737777027151\n",
      "Episode 33\tReward: 0.11725241152410604\n",
      "Episode 34\tReward: -0.49644088619546095\n",
      "Episode 35\tReward: -1.1691439520962377\n",
      "Episode 36\tReward: 0.23831081409192054\n",
      "Episode 37\tReward: -0.9158022373663528\n",
      "Episode 38\tReward: 0.05347180448609948\n",
      "Episode 39\tReward: 0.8170549667857528\n",
      "Episode 40\tReward: -0.7240054089837826\n",
      "Episode 41\tReward: 1.7465362536402496\n",
      "Episode 42\tReward: -1.3838221534042816\n",
      "Episode 43\tReward: 0.44081858742121083\n",
      "Episode 44\tReward: 0.08983614841317264\n",
      "Episode 45\tReward: -0.23382050100606191\n",
      "Episode 46\tReward: -0.9609389507483683\n",
      "Episode 47\tReward: -0.3039627094831985\n",
      "Episode 48\tReward: -0.9656193764494503\n",
      "Episode 49\tReward: -0.9180432061726037\n",
      "Episode 50\tReward: -1.6489405731903843\n",
      "Episode 51\tReward: -0.8356230409754574\n",
      "Episode 52\tReward: -1.9897828718991206\n",
      "Episode 53\tReward: -0.2687055610795539\n",
      "Episode 54\tReward: 0.8773724271174388\n",
      "Episode 55\tReward: -0.42263784472218047\n",
      "Episode 56\tReward: -1.648326346263417\n",
      "Episode 57\tReward: 0.9446870587160447\n",
      "Episode 58\tReward: -1.5266824423965146\n",
      "Episode 59\tReward: -1.29819477164977\n",
      "Episode 60\tReward: 1.3543114283262354\n",
      "Episode 61\tReward: -0.7913444032958126\n",
      "Episode 62\tReward: -0.19934624354249308\n",
      "Episode 63\tReward: -1.444690319853521\n",
      "Episode 64\tReward: -0.46893159440125487\n",
      "Episode 65\tReward: -1.576973644628157\n",
      "Episode 66\tReward: 1.4721130093623345\n",
      "Episode 67\tReward: -0.6219996612754699\n",
      "Episode 68\tReward: -1.7825119793092312\n",
      "Episode 69\tReward: -0.6989296801027933\n",
      "Episode 70\tReward: -0.5098315790031279\n",
      "Episode 71\tReward: 0.18763095679717595\n",
      "Episode 72\tReward: 0.0762522076485766\n",
      "Episode 73\tReward: 0.3317351876344219\n",
      "Episode 74\tReward: -0.12552990746327167\n",
      "Episode 75\tReward: -0.3150648738300106\n",
      "Episode 76\tReward: -1.213241042611037\n",
      "Episode 77\tReward: 0.09499098849264556\n",
      "Episode 78\tReward: -0.7651883131287661\n",
      "Episode 79\tReward: -0.5730317082818146\n",
      "Episode 80\tReward: -1.6767746146338596\n",
      "Episode 81\tReward: 0.11544919361176653\n",
      "Episode 82\tReward: -0.835601516468563\n",
      "Episode 83\tReward: 0.1102649701039354\n",
      "Episode 84\tReward: 0.35364442415142894\n",
      "Episode 85\tReward: 0.3359252507027691\n",
      "Episode 86\tReward: -0.9700404450245799\n",
      "Episode 87\tReward: -0.3895632965723962\n",
      "Episode 88\tReward: -0.36848568557197725\n",
      "Episode 89\tReward: -0.2876524910118917\n",
      "Episode 90\tReward: 0.5865984527154581\n",
      "Episode 91\tReward: -0.02830293658050209\n",
      "Episode 92\tReward: -2.4583496716222215\n",
      "Episode 93\tReward: -1.0682569397477208\n",
      "Episode 94\tReward: -0.7034476479833984\n",
      "Episode 95\tReward: 0.5705879551955035\n",
      "Episode 96\tReward: -2.0132217890131754\n",
      "Episode 97\tReward: -1.2713352366647712\n",
      "Episode 98\tReward: 1.9665222685069068\n",
      "Episode 99\tReward: -1.8196876796364336\n"
     ]
    },
    {
     "name": "stderr",
     "output_type": "stream",
     "text": [
      "ok\n",
      "\n",
      "----------------------------------------------------------------------\n",
      "Ran 1 test in 0.336s\n",
      "\n",
      "OK\n"
     ]
    },
    {
     "data": {
      "text/plain": [
       "<unittest.runner.TextTestResult run=1 errors=0 failures=0>"
      ]
     },
     "execution_count": 2,
     "metadata": {},
     "output_type": "execute_result"
    }
   ],
   "source": [
    "suite = unittest.TestLoader().loadTestsFromTestCase(TestExercise11_02)\n",
    "unittest.TextTestRunner(verbosity=2).run(suite)"
   ]
  }
 ],
 "metadata": {
  "kernelspec": {
   "display_name": "Python 3",
   "language": "python",
   "name": "python3"
  },
  "language_info": {
   "codemirror_mode": {
    "name": "ipython",
    "version": 3
   },
   "file_extension": ".py",
   "mimetype": "text/x-python",
   "name": "python",
   "nbconvert_exporter": "python",
   "pygments_lexer": "ipython3",
   "version": "3.7.4"
  }
 },
 "nbformat": 4,
 "nbformat_minor": 4
}

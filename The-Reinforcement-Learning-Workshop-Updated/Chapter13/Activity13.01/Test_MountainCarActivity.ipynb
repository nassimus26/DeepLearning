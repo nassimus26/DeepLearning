{
 "cells": [
  {
   "cell_type": "code",
   "execution_count": 25,
   "metadata": {},
   "outputs": [],
   "source": [
    "import unittest\n",
    "import import_ipynb\n",
    "import gym \n",
    "import numpy as np\n",
    "\n",
    "class TestMountainCarActivity(unittest.TestCase):\n",
    "    def setUp(self):\n",
    "        import MountainCarActivity\n",
    "        self.mca = MountainCarActivity\n",
    "        \n",
    "    def test_create_model(self):\n",
    "        env = gym.make(\"MountainCar-v0\")\n",
    "        dqn = self.mca.AgentRL(env)\n",
    "        dqn_model = dqn.create_model()\n",
    "        self.assertEqual(len(dqn_model.get_weights()), 6)\n",
    "    \n",
    "    def test_select_action(self):\n",
    "        env = gym.make(\"MountainCar-v0\")\n",
    "        dqn = self.mca.AgentRL(env)\n",
    "        action = dqn.select_action(np.reshape(env.reset(),[1, 2]), 1)\n",
    "        self.assertEqual(action, 1)\n",
    "    "
   ]
  },
  {
   "cell_type": "code",
   "execution_count": null,
   "outputs": [],
   "source": [
    "suite = unittest.TestLoader().loadTestsFromTestCase(TestMountainCarActivity)\n",
    "unittest.TextTestRunner(verbosity=2).run(suite)"
   ],
   "metadata": {
    "collapsed": false,
    "pycharm": {
     "name": "#%%\n"
    }
   }
  },
  {
   "cell_type": "code",
   "execution_count": 26,
   "metadata": {},
   "outputs": [
    {
     "name": "stderr",
     "output_type": "stream",
     "text": [
      "test_create_model (__main__.TestMountainCarActivity) ... ok\n",
      "test_select_action (__main__.TestMountainCarActivity) ... ok\n",
      "\n",
      "----------------------------------------------------------------------\n",
      "Ran 2 tests in 0.161s\n",
      "\n",
      "OK\n"
     ]
    },
    {
     "data": {
      "text/plain": [
       "<unittest.runner.TextTestResult run=2 errors=0 failures=0>"
      ]
     },
     "execution_count": 26,
     "metadata": {},
     "output_type": "execute_result"
    }
   ],
   "source": [
    "suite = unittest.TestLoader().loadTestsFromTestCase(TestMountainCarActivity)\n",
    "unittest.TextTestRunner(verbosity=2).run(suite)"
   ]
  }
 ],
 "metadata": {
  "kernelspec": {
   "display_name": "Python 3",
   "language": "python",
   "name": "python3"
  },
  "language_info": {
   "codemirror_mode": {
    "name": "ipython",
    "version": 3
   },
   "file_extension": ".py",
   "mimetype": "text/x-python",
   "name": "python",
   "nbconvert_exporter": "python",
   "pygments_lexer": "ipython3",
   "version": "3.7.3"
  }
 },
 "nbformat": 4,
 "nbformat_minor": 1
}
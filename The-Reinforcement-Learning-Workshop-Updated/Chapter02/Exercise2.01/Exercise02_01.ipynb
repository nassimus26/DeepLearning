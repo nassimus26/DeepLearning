{
 "cells": [
  {
   "cell_type": "code",
   "execution_count": 2,
   "metadata": {},
   "outputs": [],
   "source": [
    "import numpy as np\n",
    "from scipy import linalg"
   ]
  },
  {
   "cell_type": "code",
   "execution_count": 3,
   "metadata": {},
   "outputs": [
    {
     "data": {
      "text/plain": [
       "array([[0. , 0.7, 0.3],\n",
       "       [0.5, 0. , 0.5],\n",
       "       [0. , 0.1, 0.9]])"
      ]
     },
     "execution_count": 3,
     "metadata": {},
     "output_type": "execute_result"
    }
   ],
   "source": [
    "# define the Transition Probability Matrix\n",
    "n_states = 3\n",
    "P = np.zeros((n_states, n_states), np.float)\n",
    "P[0, 1] = 0.7\n",
    "P[0, 2] = 0.3\n",
    "P[1, 0] = 0.5\n",
    "P[1, 2] = 0.5\n",
    "P[2, 1] = 0.1\n",
    "P[2, 2] = 0.9\n",
    "P"
   ]
  },
  {
   "cell_type": "code",
   "execution_count": 4,
   "metadata": {},
   "outputs": [],
   "source": [
    "# the sum over columns is 1 for each row being a probability matrix\n",
    "assert((np.sum(P, axis=1) == 1).all())"
   ]
  },
  {
   "cell_type": "code",
   "execution_count": 5,
   "metadata": {},
   "outputs": [],
   "source": [
    "# define the reward matrix\n",
    "R = np.zeros((n_states, n_states), np.float)\n",
    "R[0, 1] = 1\n",
    "R[0, 2] = 10\n",
    "R[1, 0] = 0\n",
    "R[1, 2] = 1\n",
    "R[2, 1] = -1\n",
    "R[2, 2] = 10"
   ]
  },
  {
   "cell_type": "code",
   "execution_count": 6,
   "metadata": {},
   "outputs": [],
   "source": [
    "# calculate expected reward for each state by multiplying the probability matrix for each reward\n",
    "R_expected = np.sum(P * R, axis=1, keepdims=True)"
   ]
  },
  {
   "cell_type": "code",
   "execution_count": 7,
   "metadata": {},
   "outputs": [
    {
     "data": {
      "text/plain": [
       "array([[3.7],\n",
       "       [0.5],\n",
       "       [8.9]])"
      ]
     },
     "execution_count": 7,
     "metadata": {},
     "output_type": "execute_result"
    }
   ],
   "source": [
    "# The matrix R_expected\n",
    "R_expected"
   ]
  },
  {
   "cell_type": "code",
   "execution_count": 10,
   "metadata": {},
   "outputs": [],
   "source": [
    "# define the discount factor\n",
    "gamma = 0.9"
   ]
  },
  {
   "cell_type": "code",
   "execution_count": 11,
   "metadata": {},
   "outputs": [],
   "source": [
    "# Now it is possible to solve the Bellman Equation\n",
    "A = np.eye(n_states) - gamma * P"
   ]
  },
  {
   "cell_type": "code",
   "execution_count": 12,
   "metadata": {},
   "outputs": [],
   "source": [
    "B = R_expected"
   ]
  },
  {
   "cell_type": "code",
   "execution_count": 15,
   "metadata": {},
   "outputs": [
    {
     "data": {
      "text/plain": [
       "array([[65.540732  ],\n",
       "       [64.90791027],\n",
       "       [77.5879575 ]])"
      ]
     },
     "execution_count": 15,
     "metadata": {},
     "output_type": "execute_result"
    }
   ],
   "source": [
    "# solve using scipy linalg\n",
    "V = linalg.solve(A, B)\n",
    "V"
   ]
  }
 ],
 "metadata": {
  "kernelspec": {
   "display_name": "Python 3",
   "language": "python",
   "name": "python3"
  },
  "language_info": {
   "codemirror_mode": {
    "name": "ipython",
    "version": 3
   },
   "file_extension": ".py",
   "mimetype": "text/x-python",
   "name": "python",
   "nbconvert_exporter": "python",
   "pygments_lexer": "ipython3",
   "version": "3.7.4"
  }
 },
 "nbformat": 4,
 "nbformat_minor": 4
}

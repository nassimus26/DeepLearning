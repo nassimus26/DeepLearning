{
 "cells": [
  {
   "cell_type": "code",
   "execution_count": 1,
   "metadata": {},
   "outputs": [],
   "source": [
    "from gym.envs.classic_control.cartpole import CartPoleEnv\n",
    "import import_ipynb\n",
    "import numpy as np\n",
    "import unittest\n",
    "\n",
    "\n",
    "class TestExercise01_04(unittest.TestCase):\n",
    "    def setUp(self):\n",
    "        import Exercise01_04\n",
    "\n",
    "        self.exercise = Exercise01_04\n",
    "    \n",
    "    def test(self):\n",
    "        \"\"\"\n",
    "        Test that the code runs and that exists a gym environment.\n",
    "        These are the only things we can test for this exercise.\n",
    "        \"\"\"\n",
    "        env = self.exercise.env\n",
    "        self.assertTrue(env is not None)"
   ]
  },
  {
   "cell_type": "code",
   "execution_count": 2,
   "metadata": {},
   "outputs": [
    {
     "name": "stderr",
     "output_type": "stream",
     "text": [
      "test (__main__.TestExercise01_04) ... "
     ]
    },
    {
     "name": "stdout",
     "output_type": "stream",
     "text": [
      "importing Jupyter notebook from Exercise01_04.ipynb\n",
      "Episode Number: 0, Timesteps: 27\n",
      "Episode Number: 1, Timesteps: 11\n",
      "Episode Number: 2, Timesteps: 11\n",
      "Episode Number: 3, Timesteps: 17\n",
      "Episode Number: 4, Timesteps: 11\n",
      "Episode Number: 5, Timesteps: 18\n",
      "Episode Number: 6, Timesteps: 12\n",
      "Episode Number: 7, Timesteps: 14\n",
      "Episode Number: 8, Timesteps: 33\n",
      "Episode Number: 9, Timesteps: 29\n"
     ]
    },
    {
     "name": "stderr",
     "output_type": "stream",
     "text": [
      "ok\n",
      "\n",
      "----------------------------------------------------------------------\n",
      "Ran 1 test in 4.204s\n",
      "\n",
      "OK\n"
     ]
    },
    {
     "data": {
      "text/plain": [
       "<unittest.runner.TextTestResult run=1 errors=0 failures=0>"
      ]
     },
     "execution_count": 2,
     "metadata": {},
     "output_type": "execute_result"
    }
   ],
   "source": [
    "suite = unittest.TestLoader().loadTestsFromTestCase(TestExercise01_04)\n",
    "unittest.TextTestRunner(verbosity=2).run(suite)"
   ]
  }
 ],
 "metadata": {
  "kernelspec": {
   "display_name": "Python 3",
   "language": "python",
   "name": "python3"
  },
  "language_info": {
   "codemirror_mode": {
    "name": "ipython",
    "version": 3
   },
   "file_extension": ".py",
   "mimetype": "text/x-python",
   "name": "python",
   "nbconvert_exporter": "python",
   "pygments_lexer": "ipython3",
   "version": "3.6.8"
  }
 },
 "nbformat": 4,
 "nbformat_minor": 4
}

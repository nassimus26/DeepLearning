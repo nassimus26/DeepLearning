{
 "cells": [
  {
   "cell_type": "code",
   "execution_count": 1,
   "metadata": {
    "colab": {},
    "colab_type": "code",
    "id": "wl_e-LwlWi9-"
   },
   "outputs": [],
   "source": [
    "import tensorflow as tf"
   ]
  },
  {
   "cell_type": "code",
   "execution_count": 2,
   "metadata": {
    "colab": {},
    "colab_type": "code",
    "id": "tUvOUUksWr0D"
   },
   "outputs": [],
   "source": [
    "from tensorflow.keras.models import Sequential"
   ]
  },
  {
   "cell_type": "code",
   "execution_count": 3,
   "metadata": {
    "colab": {},
    "colab_type": "code",
    "id": "noONFo_xW2Kb"
   },
   "outputs": [],
   "source": [
    "model = Sequential()"
   ]
  },
  {
   "cell_type": "code",
   "execution_count": 4,
   "metadata": {
    "colab": {},
    "colab_type": "code",
    "id": "kTL06zpRW5mk"
   },
   "outputs": [],
   "source": [
    "from tensorflow.keras.layers import Conv2D"
   ]
  },
  {
   "cell_type": "code",
   "execution_count": 5,
   "metadata": {
    "colab": {},
    "colab_type": "code",
    "id": "VzsfC1ZvXOiY"
   },
   "outputs": [],
   "source": [
    "conv1 = Conv2D(32, 8, (4,4), activation='relu', padding='valid', input_shape=(84, 84, 1))"
   ]
  },
  {
   "cell_type": "code",
   "execution_count": 6,
   "metadata": {
    "colab": {},
    "colab_type": "code",
    "id": "rJieA7BLXR7j"
   },
   "outputs": [],
   "source": [
    "conv2 = Conv2D(64, 4, (2,2), activation='relu', padding='valid')"
   ]
  },
  {
   "cell_type": "code",
   "execution_count": 7,
   "metadata": {
    "colab": {},
    "colab_type": "code",
    "id": "IwMsEZ8JXUHl"
   },
   "outputs": [],
   "source": [
    "conv3 = Conv2D(64, 3, (1,1), activation='relu', padding='valid')"
   ]
  },
  {
   "cell_type": "code",
   "execution_count": 8,
   "metadata": {
    "colab": {},
    "colab_type": "code",
    "id": "QqChL7oDiEVI"
   },
   "outputs": [],
   "source": [
    "from tensorflow.keras.layers import TimeDistributed"
   ]
  },
  {
   "cell_type": "code",
   "execution_count": 9,
   "metadata": {
    "colab": {},
    "colab_type": "code",
    "id": "Y3jKvKQ6iKS_"
   },
   "outputs": [],
   "source": [
    "time_conv1 = TimeDistributed(conv1, input_shape=(4, 84, 84, 1))"
   ]
  },
  {
   "cell_type": "code",
   "execution_count": 10,
   "metadata": {
    "colab": {},
    "colab_type": "code",
    "id": "8HKLRhqQiRU8"
   },
   "outputs": [],
   "source": [
    "time_conv2 = TimeDistributed(conv2)"
   ]
  },
  {
   "cell_type": "code",
   "execution_count": 11,
   "metadata": {
    "colab": {},
    "colab_type": "code",
    "id": "WIO3YqQjiRdS"
   },
   "outputs": [],
   "source": [
    "time_conv3 = TimeDistributed(conv3)"
   ]
  },
  {
   "cell_type": "code",
   "execution_count": 12,
   "metadata": {
    "colab": {},
    "colab_type": "code",
    "id": "qOlyRHhDXMuO"
   },
   "outputs": [],
   "source": [
    "model.add(time_conv1)\n",
    "model.add(time_conv2)\n",
    "model.add(time_conv3)"
   ]
  },
  {
   "cell_type": "code",
   "execution_count": 13,
   "metadata": {
    "colab": {},
    "colab_type": "code",
    "id": "7YCm9nCiW7eg"
   },
   "outputs": [],
   "source": [
    "from tensorflow.keras.layers import Flatten"
   ]
  },
  {
   "cell_type": "code",
   "execution_count": 14,
   "metadata": {
    "colab": {},
    "colab_type": "code",
    "id": "SVThRjx-h-2v"
   },
   "outputs": [],
   "source": [
    "time_flatten = TimeDistributed(Flatten())"
   ]
  },
  {
   "cell_type": "code",
   "execution_count": 15,
   "metadata": {
    "colab": {},
    "colab_type": "code",
    "id": "AxkT-keGW_YB"
   },
   "outputs": [],
   "source": [
    "model.add(time_flatten)"
   ]
  },
  {
   "cell_type": "code",
   "execution_count": 16,
   "metadata": {
    "colab": {},
    "colab_type": "code",
    "id": "cZVhAZC2ip3a"
   },
   "outputs": [],
   "source": [
    "from tensorflow.keras.layers import LSTM"
   ]
  },
  {
   "cell_type": "code",
   "execution_count": 17,
   "metadata": {
    "colab": {},
    "colab_type": "code",
    "id": "dRyDBpx9h-x1"
   },
   "outputs": [],
   "source": [
    "lstm = LSTM(512)"
   ]
  },
  {
   "cell_type": "code",
   "execution_count": 18,
   "metadata": {
    "colab": {},
    "colab_type": "code",
    "id": "AQK3MKlulDo0"
   },
   "outputs": [],
   "source": [
    "model.add(lstm)"
   ]
  },
  {
   "cell_type": "code",
   "execution_count": 19,
   "metadata": {
    "colab": {},
    "colab_type": "code",
    "id": "ndOHDu7ZW_fk"
   },
   "outputs": [],
   "source": [
    "from tensorflow.keras.layers import Dense"
   ]
  },
  {
   "cell_type": "code",
   "execution_count": 20,
   "metadata": {
    "colab": {},
    "colab_type": "code",
    "id": "CW42s7gJXebS"
   },
   "outputs": [],
   "source": [
    "fc1 = Dense(128, activation='relu')"
   ]
  },
  {
   "cell_type": "code",
   "execution_count": 21,
   "metadata": {
    "colab": {},
    "colab_type": "code",
    "id": "EAAfBLWQXhmx"
   },
   "outputs": [],
   "source": [
    "fc2 = Dense(4)"
   ]
  },
  {
   "cell_type": "code",
   "execution_count": 22,
   "metadata": {
    "colab": {},
    "colab_type": "code",
    "id": "qj6Y03J7W0dK"
   },
   "outputs": [],
   "source": [
    "model.add(fc1)\n",
    "model.add(fc2)"
   ]
  },
  {
   "cell_type": "code",
   "execution_count": 23,
   "metadata": {
    "colab": {},
    "colab_type": "code",
    "id": "5DgPiGANW0jz"
   },
   "outputs": [],
   "source": [
    "from tensorflow.keras.optimizers import RMSprop"
   ]
  },
  {
   "cell_type": "code",
   "execution_count": 24,
   "metadata": {
    "colab": {},
    "colab_type": "code",
    "id": "JoPKdR0CWr40"
   },
   "outputs": [],
   "source": [
    "optimizer=RMSprop(lr=0.00025)"
   ]
  },
  {
   "cell_type": "code",
   "execution_count": 25,
   "metadata": {
    "colab": {},
    "colab_type": "code",
    "id": "YFrcdqRfWr7V"
   },
   "outputs": [],
   "source": [
    "model.compile(loss='mse', optimizer=optimizer, metrics=['accuracy'])"
   ]
  },
  {
   "cell_type": "code",
   "execution_count": 26,
   "metadata": {
    "colab": {
     "base_uri": "https://localhost:8080/",
     "height": 391
    },
    "colab_type": "code",
    "executionInfo": {
     "elapsed": 3298,
     "status": "ok",
     "timestamp": 1588510101938,
     "user": {
      "displayName": "Anthony So",
      "photoUrl": "https://lh3.googleusercontent.com/a-/AOh14GiYepcJQjaVrQ1i01LEROgsJ738vi03JrR51Ryb3w=s64",
      "userId": "11809607246124237079"
     },
     "user_tz": -600
    },
    "id": "lEO1N-x2XIb3",
    "outputId": "0e14b93a-29d8-4654-e565-580aaa37918a"
   },
   "outputs": [
    {
     "name": "stdout",
     "output_type": "stream",
     "text": [
      "Model: \"sequential\"\n",
      "_________________________________________________________________\n",
      "Layer (type)                 Output Shape              Param #   \n",
      "=================================================================\n",
      "time_distributed (TimeDistri (None, 4, 20, 20, 32)     2080      \n",
      "_________________________________________________________________\n",
      "time_distributed_1 (TimeDist (None, 4, 9, 9, 64)       32832     \n",
      "_________________________________________________________________\n",
      "time_distributed_2 (TimeDist (None, 4, 7, 7, 64)       36928     \n",
      "_________________________________________________________________\n",
      "time_distributed_3 (TimeDist (None, 4, 3136)           0         \n",
      "_________________________________________________________________\n",
      "lstm (LSTM)                  (None, 512)               7473152   \n",
      "_________________________________________________________________\n",
      "dense (Dense)                (None, 128)               65664     \n",
      "_________________________________________________________________\n",
      "dense_1 (Dense)              (None, 4)                 516       \n",
      "=================================================================\n",
      "Total params: 7,611,172\n",
      "Trainable params: 7,611,172\n",
      "Non-trainable params: 0\n",
      "_________________________________________________________________\n"
     ]
    }
   ],
   "source": [
    "model.summary()"
   ]
  },
  {
   "cell_type": "code",
   "execution_count": null,
   "metadata": {},
   "outputs": [],
   "source": []
  }
 ],
 "metadata": {
  "colab": {
   "authorship_tag": "ABX9TyPk1s/YI1waS+ZxCXnkgo05",
   "collapsed_sections": [],
   "name": "Exercise10_03.ipynb",
   "provenance": []
  },
  "kernelspec": {
   "display_name": "Python 3",
   "language": "python",
   "name": "python3"
  },
  "language_info": {
   "codemirror_mode": {
    "name": "ipython",
    "version": 3
   },
   "file_extension": ".py",
   "mimetype": "text/x-python",
   "name": "python",
   "nbconvert_exporter": "python",
   "pygments_lexer": "ipython3",
   "version": "3.8.0"
  }
 },
 "nbformat": 4,
 "nbformat_minor": 1
}

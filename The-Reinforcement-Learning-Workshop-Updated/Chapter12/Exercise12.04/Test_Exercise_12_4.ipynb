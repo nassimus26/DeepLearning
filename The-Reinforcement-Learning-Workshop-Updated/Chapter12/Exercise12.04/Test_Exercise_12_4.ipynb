{
 "cells": [
  {
   "cell_type": "code",
   "execution_count": 1,
   "metadata": {},
   "outputs": [],
   "source": [
    "import unittest\n",
    "import import_ipynb\n",
    "import numpy as np\n",
    "\n",
    "class TestExercise12_4(unittest.TestCase):\n",
    "    def setUp(self):\n",
    "        import Exercise_12_4\n",
    "        self.exercises = Exercise_12_4\n",
    "        \n",
    "    def test_original_population(self):\n",
    "        pop = self.exercises.original_population(4,5)\n",
    "        self.assertEqual(len(pop[0]),len(pop[1]))\n",
    "        \n",
    "    def test_create_target_solution(self):\n",
    "        target = self.exercises.create_target_solution(50)\n",
    "        self.assertEqual(len(target), 50)\n",
    "\n",
    "        \n",
    "    def test_fitness_function(self):\n",
    "        target = np.zeros(5)\n",
    "        pop = self.exercises.original_population(2,5)\n",
    "        weights = self.exercises.fitness_function(target, pop)\n",
    "        self.assertEqual(len(weights),2)\n",
    "        \n",
    "    def test_select_parents(self):\n",
    "        pop = self.exercises.original_population(3,3)\n",
    "        target = self.exercises.create_target_solution(3)\n",
    "        weights = self.exercises.fitness_function(target, pop)\n",
    "        parents = self.exercises.select_parents(pop, weights)\n",
    "    \n",
    "        for i in range(len(pop[np.argmax(weights)])):\n",
    "            self.assertEqual(pop[2][i], parents[0][i])\n",
    "         \n",
    "            \n",
    "    def test_choice_by_roulette(self):\n",
    "        pop = self.exercises.original_population(3,3)\n",
    "        target = self.exercises.create_target_solution(3)\n",
    "        weights1 = self.exercises.fitness_function(target, pop)\n",
    "  \n",
    "        p1, weights2 = self.exercises.choice_by_roulette(pop, weights1)\n",
    "        \n",
    "        for i in range(len(p1)):\n",
    "            self.assertEqual(len(weights1), len(weights2))\n",
    "            self.assertEqual(weights2[i] >= 0, True)\n",
    "        \n",
    "           "
   ]
  },
  {
   "cell_type": "code",
   "execution_count": 2,
   "metadata": {
    "pycharm": {
     "is_executing": true,
     "name": "#%%\n"
    }
   },
   "outputs": [
    {
     "name": "stderr",
     "output_type": "stream",
     "text": [
      "test_choice_by_roulette (__main__.TestExercise12_4) ... Exercise_12_4.ipynb:19: RuntimeWarning: divide by zero encountered in true_divide\n",
      "  \"source\": [\n",
      "ok\n",
      "test_create_target_solution (__main__.TestExercise12_4) ... ok\n",
      "test_fitness_function (__main__.TestExercise12_4) ... ok\n",
      "test_original_population (__main__.TestExercise12_4) ... ok\n",
      "test_select_parents (__main__.TestExercise12_4) ... "
     ]
    },
    {
     "name": "stdout",
     "output_type": "stream",
     "text": [
      "importing Jupyter notebook from Exercise_12_4.ipynb\n",
      "[5 3 3 3 4]\n",
      "\n",
      " target: [0. 0. 1. 1. 1. 0. 0. 1.]\n",
      "Parent 1: [0. 0. 0. 1. 0. 0. 0. 0.] \n",
      "Parent 2: [0. 1. 0. 1. 1. 1. 1. 1.]\n",
      "[0 3 3 3 4]\n",
      "Parent 3: [0. 1. 0. 1. 1. 1. 1. 1.] Weights: [0 3 3 3 0]\n",
      "Parent 4: [0. 1. 0. 0. 0. 0. 0. 0.] Weights: [0 0 3 3 0]\n"
     ]
    },
    {
     "name": "stderr",
     "output_type": "stream",
     "text": [
      "ok\n",
      "\n",
      "----------------------------------------------------------------------\n",
      "Ran 5 tests in 0.058s\n",
      "\n",
      "OK\n"
     ]
    },
    {
     "data": {
      "text/plain": [
       "<unittest.runner.TextTestResult run=5 errors=0 failures=0>"
      ]
     },
     "execution_count": 2,
     "metadata": {},
     "output_type": "execute_result"
    }
   ],
   "source": [
    "suite = unittest.TestLoader().loadTestsFromTestCase(TestExercise12_4)\n",
    "unittest.TextTestRunner(verbosity=2).run(suite)"
   ]
  }
 ],
 "metadata": {
  "kernelspec": {
   "display_name": "Python 3",
   "language": "python",
   "name": "python3"
  },
  "language_info": {
   "codemirror_mode": {
    "name": "ipython",
    "version": 3
   },
   "file_extension": ".py",
   "mimetype": "text/x-python",
   "name": "python",
   "nbconvert_exporter": "python",
   "pygments_lexer": "ipython3",
   "version": "3.7.3"
  }
 },
 "nbformat": 4,
 "nbformat_minor": 1
}
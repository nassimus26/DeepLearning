{
 "cells": [
  {
   "cell_type": "code",
   "execution_count": 3,
   "metadata": {},
   "outputs": [],
   "source": [
    "import unittest\n",
    "import import_ipynb\n",
    "\n",
    "class TestHindsightExpRep(unittest.TestCase):\n",
    "    def setUp(self):\n",
    "        import HindsightExpRep\n",
    "        self.exercises = HindsightExpRep\n",
    "        \n",
    "    def test_functions(self):\n",
    "        sample = 12\n",
    "        buf = self.exercises.HindsightExpRep(1)\n",
    "        buf1 = buf.renew\n",
    "        buf2 = buf.append_sample(2)\n",
    "        buf3 = buf.append_sample(2)\n",
    "        buf4 = buf.hindsight\n",
    "        \n",
    "        \n",
    "        self.assertIsNot(buf, buf1)\n",
    "        self.assertIs(buf2,buf3)\n",
    "        self.assertIsNot(buf, buf2)\n"
   ]
  },
  {
   "cell_type": "code",
   "execution_count": 4,
   "metadata": {
    "pycharm": {
     "name": "#%%\n"
    }
   },
   "outputs": [
    {
     "name": "stderr",
     "output_type": "stream",
     "text": [
      "test_functions (__main__.TestHindsightExpRep) ... ok\n",
      "\n",
      "----------------------------------------------------------------------\n",
      "Ran 1 test in 0.001s\n",
      "\n",
      "OK\n"
     ]
    },
    {
     "data": {
      "text/plain": [
       "<unittest.runner.TextTestResult run=1 errors=0 failures=0>"
      ]
     },
     "execution_count": 4,
     "metadata": {},
     "output_type": "execute_result"
    }
   ],
   "source": [
    "suite = unittest.TestLoader().loadTestsFromTestCase(TestHindsightExpRep)\n",
    "unittest.TextTestRunner(verbosity=2).run(suite)"
   ]
  }
 ],
 "metadata": {
  "kernelspec": {
   "display_name": "Python 3",
   "language": "python",
   "name": "python3"
  },
  "language_info": {
   "codemirror_mode": {
    "name": "ipython",
    "version": 3
   },
   "file_extension": ".py",
   "mimetype": "text/x-python",
   "name": "python",
   "nbconvert_exporter": "python",
   "pygments_lexer": "ipython3",
   "version": "3.7.3"
  }
 },
 "nbformat": 4,
 "nbformat_minor": 1
}

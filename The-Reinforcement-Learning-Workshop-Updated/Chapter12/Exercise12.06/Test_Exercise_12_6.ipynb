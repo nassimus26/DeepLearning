{
 "cells": [
  {
   "cell_type": "code",
   "execution_count": null,
   "metadata": {
    "pycharm": {
     "is_executing": true
    }
   },
   "outputs": [],
   "source": [
    "import unittest\n",
    "import import_ipynb\n",
    "import numpy as np\n",
    "\n",
    "class TestExercise12_6(unittest.TestCase):\n",
    "    def setUp(self):\n",
    "        import Exercise_12_6\n",
    "        self.exercises = Exercise_12_6\n",
    "        \n",
    "    def test_original_population(self):\n",
    "        pop = self.exercises.original_population(4,5)\n",
    "        self.assertEqual(len(pop[0]),len(pop[1]))\n",
    "        \n",
    "    def test_create_target_solution(self):\n",
    "        target = self.exercises.create_target_solution(50)\n",
    "        self.assertEqual(len(target), 50)\n",
    "\n",
    "        \n",
    "    def test_fitness_function(self):\n",
    "        target = np.zeros(5)\n",
    "        pop = self.exercises.original_population(2,5)\n",
    "        weights = self.exercises.fitness_function(target, pop)\n",
    "        self.assertEqual(len(weights),2)\n",
    "        \n",
    "    def test_select_parents(self):\n",
    "        pop = self.exercises.original_population(5,8)\n",
    "        weights = np.array([1,0,2,4,3,2,1,0])\n",
    "        parents = self.exercises.select_parents(pop, weights)\n",
    "        self.assertIsNot(pop, parents)\n",
    "\n",
    "    \n",
    "    \n",
    "    def test_crossover_reproduction(self):\n",
    "        pop = self.exercises.original_population(2,6)\n",
    "        parents = pop[0:2]\n",
    "        c1,c2 = self.exercises.crossover_reproduction(parents, pop)\n",
    "        self.assertEqual(len(c1), len(parents[0]))\n",
    "        self.assertEqual(len(c2), len(parents[1]))\n",
    "        self.assertIsNot(c1,parents[0])\n",
    "        self.assertIsNot(c2, parents[1])\n",
    "    \n",
    "    def test_mutate_population(self):\n",
    "        p = 0.005\n",
    "        pop = self.exercises.original_population(6,2)\n",
    "        pop1= self.exercises.mutate_population(pop,p)\n",
    "        self.assertEqual(len(pop), len(pop1))\n",
    "        for i in range(len(pop)):\n",
    "            self.assertIsNot(pop[i], pop1[i])\n",
    "        \n",
    "        \n",
    "\n"
   ]
  },
  {
   "cell_type": "code",
   "execution_count": 2,
   "metadata": {
    "pycharm": {
     "name": "#%%\n"
    }
   },
   "outputs": [
    {
     "name": "stderr",
     "output_type": "stream",
     "text": [
      "test_create_target_solution (__main__.TestExercise12_6) ... ok\n",
      "test_crossover_reproduction (__main__.TestExercise12_6) ... ok\n",
      "test_fitness_function (__main__.TestExercise12_6) ... ok\n",
      "test_mutate_population (__main__.TestExercise12_6) ... ok\n",
      "test_original_population (__main__.TestExercise12_6) ... ok\n",
      "test_select_parents (__main__.TestExercise12_6) ... "
     ]
    },
    {
     "name": "stdout",
     "output_type": "stream",
     "text": [
      "importing Jupyter notebook from Exercise_12_6.ipynb\n",
      "Crossover point: 1\n",
      "\n",
      "Population after the cross-over:\n",
      " [[1. 1. 0. 1. 1. 1. 1. 1.]\n",
      " [0. 0. 1. 0. 0. 0. 0. 1.]\n",
      " [0. 0. 0. 0. 0. 0. 0. 0.]\n",
      " [0. 0. 1. 1. 0. 1. 0. 0.]\n",
      " [1. 0. 1. 1. 1. 1. 1. 0.]\n",
      " [0. 0. 1. 1. 0. 1. 0. 0.]\n",
      " [0. 0. 1. 0. 0. 0. 0. 1.]]\n",
      "\n",
      "Next generation of the population:\n",
      " [[0. 0. 0. 0. 0. 0. 0. 0.]\n",
      " [1. 1. 0. 1. 1. 1. 1. 0.]\n",
      " [1. 1. 1. 1. 1. 1. 1. 1.]\n",
      " [1. 1. 0. 0. 1. 0. 1. 1.]\n",
      " [0. 1. 0. 0. 0. 0. 0. 1.]\n",
      " [1. 1. 0. 0. 1. 0. 1. 1.]\n",
      " [1. 1. 0. 1. 1. 1. 1. 0.]]\n",
      "Crossover point: 1\n"
     ]
    },
    {
     "name": "stderr",
     "output_type": "stream",
     "text": [
      "ok\n",
      "\n",
      "----------------------------------------------------------------------\n",
      "Ran 6 tests in 0.062s\n",
      "\n",
      "OK\n"
     ]
    },
    {
     "data": {
      "text/plain": [
       "<unittest.runner.TextTestResult run=6 errors=0 failures=0>"
      ]
     },
     "execution_count": 2,
     "metadata": {},
     "output_type": "execute_result"
    }
   ],
   "source": [
    "suite = unittest.TestLoader().loadTestsFromTestCase(TestExercise12_6)\n",
    "unittest.TextTestRunner(verbosity=2).run(suite)"
   ]
  }
 ],
 "metadata": {
  "kernelspec": {
   "display_name": "Python 3",
   "language": "python",
   "name": "python3"
  },
  "language_info": {
   "codemirror_mode": {
    "name": "ipython",
    "version": 3
   },
   "file_extension": ".py",
   "mimetype": "text/x-python",
   "name": "python",
   "nbconvert_exporter": "python",
   "pygments_lexer": "ipython3",
   "version": "3.7.3"
  }
 },
 "nbformat": 4,
 "nbformat_minor": 1
}
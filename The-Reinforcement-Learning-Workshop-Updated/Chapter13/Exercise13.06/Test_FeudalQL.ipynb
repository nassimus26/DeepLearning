{
 "cells": [
  {
   "cell_type": "code",
   "execution_count": 1,
   "metadata": {},
   "outputs": [],
   "source": [
    "import unittest\n",
    "import import_ipynb\n",
    "import gym\n",
    "\n",
    "class TestFeudalQL(unittest.TestCase):\n",
    "    def setUp(self):\n",
    "        import FeudalQL\n",
    "        self.exercises = FeudalQL\n",
    "        \n",
    "    def test_get_lev_st(self):\n",
    "        env = gym.make(\"MountainCar-v0\")\n",
    "        no_acts = env.action_space.n\n",
    "        current_state= env.reset()\n",
    "        q_val = self.exercises.FQlearnTable(no_acts)\n",
    "        self.assertEqual(len(q_val.get_lev_st(current_state)),3)\n",
    "        \n",
    "    def test_select_action(self):\n",
    "        env = gym.make(\"MountainCar-v0\")\n",
    "        no_acts = env.action_space.n\n",
    "        current_state= env.reset()\n",
    "        q_val = self.exercises.FQlearnTable(no_acts)\n",
    "        self.assertEqual(len(q_val.select_action(current_state)),3)\n",
    "        \n",
    "    def test_memory(self):\n",
    "        env = gym.make(\"MountainCar-v0\")\n",
    "        no_acts = env.action_space.n\n",
    "        current_state= env.reset()\n",
    "        q_val = self.exercises.FQlearnTable(no_acts)\n",
    "        action = q_val.select_action(current_state)\n",
    "        act = action[1]\n",
    "        new_state, reward, done, _ = env.step(act)\n",
    "        self.assertIsNone(q_val.memory(current_state,action, reward, new_state, done))\n",
    "        "
   ]
  },
  {
   "cell_type": "code",
   "execution_count": 2,
   "metadata": {
    "pycharm": {
     "name": "#%%\n"
    }
   },
   "outputs": [
    {
     "name": "stderr",
     "output_type": "stream",
     "text": [
      "test_get_lev_st (__main__.TestFeudalQL) ... "
     ]
    },
    {
     "name": "stdout",
     "output_type": "stream",
     "text": [
      "importing Jupyter notebook from FeudalQL.ipynb\n",
      "Q_Table at start\n",
      " Empty DataFrame\n",
      "Columns: [Left, Right, Top, Bottom]\n",
      "Index: []\n",
      "\n",
      "\n",
      "Q Table after verifying initial state\n",
      "         Left  Right  Top  Bottom\n",
      "(0, 0)   0.0    0.0  0.0     0.0\n",
      "\n",
      "\n",
      "Q Table after making a transition and getting a reward\n",
      "         Left  Right  Top  Bottom\n",
      "(0, 0)   0.0   0.04  0.0     0.0\n",
      "(0, 1)   0.0   0.00  0.0     0.0\n"
     ]
    },
    {
     "name": "stderr",
     "output_type": "stream",
     "text": [
      "ok\n",
      "test_memory (__main__.TestFeudalQL) ... ok\n",
      "test_select_action (__main__.TestFeudalQL) ... ok\n",
      "\n",
      "----------------------------------------------------------------------\n",
      "Ran 3 tests in 1.657s\n",
      "\n",
      "OK\n"
     ]
    },
    {
     "data": {
      "text/plain": [
       "<unittest.runner.TextTestResult run=3 errors=0 failures=0>"
      ]
     },
     "execution_count": 2,
     "metadata": {},
     "output_type": "execute_result"
    }
   ],
   "source": [
    "suite = unittest.TestLoader().loadTestsFromTestCase(TestFeudalQL)\n",
    "unittest.TextTestRunner(verbosity=2).run(suite)"
   ]
  }
 ],
 "metadata": {
  "kernelspec": {
   "display_name": "Python 3",
   "language": "python",
   "name": "python3"
  },
  "language_info": {
   "codemirror_mode": {
    "name": "ipython",
    "version": 3
   },
   "file_extension": ".py",
   "mimetype": "text/x-python",
   "name": "python",
   "nbconvert_exporter": "python",
   "pygments_lexer": "ipython3",
   "version": "3.7.3"
  }
 },
 "nbformat": 4,
 "nbformat_minor": 1
}

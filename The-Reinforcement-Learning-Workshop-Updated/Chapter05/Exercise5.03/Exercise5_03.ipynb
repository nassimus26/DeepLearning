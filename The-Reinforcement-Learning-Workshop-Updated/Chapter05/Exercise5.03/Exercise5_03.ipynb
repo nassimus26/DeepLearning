{
 "nbformat": 4,
 "nbformat_minor": 0,
 "metadata": {
  "colab": {
   "name": "Exercise5.03.ipynb",
   "provenance": []
  },
  "kernelspec": {
   "name": "python3",
   "display_name": "Python 3"
  }
 },
 "cells": [
  {
   "cell_type": "code",
   "metadata": {
    "id": "ZJB-ymEE8Z90",
    "colab_type": "code",
    "colab": {
     "base_uri": "https://localhost:8080/",
     "height": 87
    },
    "outputId": "f8e8dcdc-a103-4a04-b396-1b0ac91ad713"
   },
   "source": [
    "import numpy as np\n",
    "import pandas as pd\n",
    "\n",
    "\n",
    "def count_changes(N, denominations):\n",
    "    \"\"\"\n",
    "    Counts the number of ways to add the coin denominations\n",
    "    to N.\n",
    "    Args:\n",
    "        N: number to sum up to\n",
    "        denominations: list of coins\n",
    "    Returns:\n",
    "    \"\"\"\n",
    "    print(f\"Counting number of ways to get to {N} using coins: {denominations}\")\n",
    "    # table with dimension len(denomination) x (N + 1)\n",
    "    # the number of columns is N + 1 since the index\n",
    "    # includes zero as well\n",
    "    table = np.ones((len(denominations), N + 1)).astype(int)\n",
    "    # run the loop from 1 since the first row will always 1s\n",
    "    for i in range(1, len(denominations)):\n",
    "        for j in range(N + 1):\n",
    "            if j < denominations[i]:\n",
    "                # If the index is less than the denomination\n",
    "                # then just copy the previous best\n",
    "                table[i, j] = table[i - 1, j]\n",
    "            else:\n",
    "                # If not, the add two things:\n",
    "                # 1. The number of ways to sum up to N *without* considering\n",
    "                #    the existing denomination.\n",
    "                # 2. And, the number of ways to sum up to N minus the\n",
    "                #    value of the current denomination (by considering the\n",
    "                #    current and the previous denominations)\n",
    "                table[i, j] = table[i - 1, j] + table[i, j - denominations[i]]\n",
    "    # pretty print the table\n",
    "    print_table(table, denominations)\n",
    "    # return the final value\n",
    "    return table[-1][-1]\n",
    "\n",
    "\n",
    "def print_table(table, denominations):\n",
    "    \"\"\"\n",
    "    Pretty print a numpy table\n",
    "    Args:\n",
    "        table: table to print\n",
    "        denominations: list of coins\n",
    "    Returns:\n",
    "    \"\"\"\n",
    "    df = pd.DataFrame(table)\n",
    "    df = df.set_index(np.array(denominations))\n",
    "    print(df)\n",
    "\n",
    "\n",
    "if __name__ == '__main__':\n",
    "    N = 5\n",
    "    denominations = [1, 2]\n",
    "    ways = count_changes(N, denominations)\n",
    "    print(\"Number of ways:\", ways)"
   ],
   "execution_count": 6,
   "outputs": [
    {
     "output_type": "stream",
     "text": [
      "Counting number of ways to get to 5 using coins: [1, 2]\n",
      "   0  1  2  3  4  5\n",
      "1  1  1  1  1  1  1\n",
      "2  1  1  2  2  3  3\n"
     ],
     "name": "stdout"
    }
   ]
  },
  {
   "cell_type": "code",
   "metadata": {
    "id": "o-oqv1KQ84zz",
    "colab_type": "code",
    "colab": {}
   },
   "source": [],
   "execution_count": 0,
   "outputs": []
  }
 ]
}
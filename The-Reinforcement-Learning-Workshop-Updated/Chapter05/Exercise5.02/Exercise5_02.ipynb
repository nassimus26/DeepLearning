{
  "nbformat": 4,
  "nbformat_minor": 0,
  "metadata": {
    "colab": {
      "name": "Exercise5.02.ipynb",
      "provenance": []
    },
    "kernelspec": {
      "name": "python3",
      "display_name": "Python 3"
    }
  },
  "cells": [
    {
      "cell_type": "code",
      "metadata": {
        "id": "L9kcnFj64EWf",
        "colab_type": "code",
        "colab": {}
      },
      "source": [
        "import numpy as np"
      ],
      "execution_count": 0,
      "outputs": []
    },
    {
      "cell_type": "code",
      "metadata": {
        "id": "LFf596DC3TY1",
        "colab_type": "code",
        "colab": {}
      },
      "source": [
        "def lcs_brute_force(first, second):\n",
        "    \"\"\"\n",
        "    Use brute force to calculate the longest common substring of two strings\n",
        "    Args:\n",
        "        first: first string\n",
        "        second: second string\n",
        "    Returns:\n",
        "        the length of the longest common substring\n",
        "    \"\"\"\n",
        "    len_first = len(first)\n",
        "    len_second = len(second)\n",
        "    max_lcs = -1\n",
        "    lcs_start, lcs_end = -1, -1\n",
        "    # for every possible start in the first string\n",
        "    for i1 in range(len_first):\n",
        "        # for every possible end in the first string\n",
        "        for j1 in range(i1, len_first):\n",
        "            # for every possible start in the second string\n",
        "            for i2 in range(len_second):\n",
        "                # for every possible end in the second string\n",
        "                for j2 in range(i2, len_second):\n",
        "                    # start and end position of the current\n",
        "                    # candidates\n",
        "                    slice_first = slice(i1, j1)\n",
        "                    slice_second = slice(i2, j2)\n",
        "                    # if the strings match and the length is the\n",
        "                    # highest so far\n",
        "                    if first[slice_first] == second[slice_second] \\\n",
        "                            and j1 - i1 > max_lcs:\n",
        "                        # save the lengths\n",
        "                        max_lcs = j1 - i1\n",
        "                        lcs_start = i1\n",
        "                        lcs_end = j1\n",
        "\n",
        "    print(\"LCS: \", first[lcs_start: lcs_end])\n",
        "    return max_lcs\n",
        "\n"
      ],
      "execution_count": 0,
      "outputs": []
    },
    {
      "cell_type": "code",
      "metadata": {
        "id": "fv5TTvyZ5S-E",
        "colab_type": "code",
        "colab": {
          "base_uri": "https://localhost:8080/",
          "height": 34
        },
        "outputId": "b91e9021-8c59-4715-f56c-9f8ffb6a2921"
      },
      "source": [
        "if __name__ == '__main__':\n",
        "    a = \"BBBABDABAA\"\n",
        "    b = \"AAAABDABBAABB\"\n",
        "    lcs_brute_force(a, b)\n"
      ],
      "execution_count": 22,
      "outputs": [
        {
          "output_type": "stream",
          "text": [
            "LCS:  ABDAB\n"
          ],
          "name": "stdout"
        }
      ]
    },
    {
      "cell_type": "code",
      "metadata": {
        "id": "cEMg3gPd4Ip9",
        "colab_type": "code",
        "colab": {}
      },
      "source": [
        "def lcs_tabular(first, second):\n",
        "    \"\"\"\n",
        "    Calculates the longest common substring using memoization.\n",
        "    Args:\n",
        "        first: the first string\n",
        "        second: the second string\n",
        "    Returns:\n",
        "        the length of the longest common substring.\n",
        "    \"\"\"\n",
        "    # initialize the table using numpy because it's convenient\n",
        "    table = np.zeros((len(first), len(second)), dtype=int)\n",
        "    for i in range(len(first)):\n",
        "        for j in range(len(second)):\n",
        "            if first[i] == second[j]:\n",
        "                table[i][j] += 1 + table[i - 1][j - 1]\n",
        "    print(table)\n",
        "    return np.max(table)"
      ],
      "execution_count": 0,
      "outputs": []
    },
    {
      "cell_type": "code",
      "metadata": {
        "id": "thGYZBtm4Kvn",
        "colab_type": "code",
        "colab": {
          "base_uri": "https://localhost:8080/",
          "height": 194
        },
        "outputId": "887ba567-a83d-4527-8ec8-9f17fd76bb01"
      },
      "source": [
        "if __name__ == '__main__':\n",
        "    a = \"BBBABDABAA\"\n",
        "    b = \"AAAABDABBAABB\"\n",
        "    lcs_tabular(a, b)"
      ],
      "execution_count": 24,
      "outputs": [
        {
          "output_type": "stream",
          "text": [
            "[[0 0 0 0 1 0 0 1 1 0 0 1 1]\n",
            " [0 0 0 0 1 0 0 1 2 0 0 1 2]\n",
            " [0 0 0 0 1 0 0 1 2 0 0 1 2]\n",
            " [3 1 1 1 0 0 1 0 0 3 1 0 0]\n",
            " [0 0 0 0 2 0 0 2 1 0 0 2 1]\n",
            " [0 0 0 0 0 3 0 0 0 0 0 0 0]\n",
            " [1 1 1 1 0 0 4 0 0 1 1 0 0]\n",
            " [0 0 0 0 2 0 0 5 1 0 0 2 1]\n",
            " [2 1 1 1 0 0 1 0 0 2 1 0 0]\n",
            " [1 3 2 2 0 0 1 0 0 1 3 0 0]]\n"
          ],
          "name": "stdout"
        }
      ]
    }
  ]
}
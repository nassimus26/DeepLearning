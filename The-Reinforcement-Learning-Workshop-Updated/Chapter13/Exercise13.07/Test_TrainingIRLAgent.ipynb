{
 "cells": [
  {
   "cell_type": "code",
   "execution_count": 5,
   "metadata": {},
   "outputs": [],
   "source": [
    "import unittest\n",
    "import import_ipynb\n",
    "import numpy as np\n",
    "\n",
    "class TestTrainingIRLAgent(unittest.TestCase):\n",
    "    def setUp(self):\n",
    "        import TrainingIRLAgent\n",
    "        self.exercises = TrainingIRLAgent\n",
    "        \n",
    "    def test_demo_index(self):\n",
    "        env = self.exercises.gym.make('MountainCar-v0')\n",
    "        demos = self.exercises.demonstration_indx(env,self.exercises.no_st_feature)\n",
    "        self.assertEqual(len(demos), 20)\n",
    "        \n",
    "    def test_attach_state(self):\n",
    "        env = self.exercises.gym.make('MountainCar-v0')\n",
    "        table = np.zeros((100,3))\n",
    "        self.assertNotEqual(self.exercises.attach_state(env, env.reset()),18)\n",
    "        action = np.argmax(table[0])\n",
    "        new_state, reward, done, _ = env.step(action)\n",
    "        self.assertNotEqual(self.exercises.attach_state(env, new_state),180)\n",
    "        \n",
    "    def test_expert_config(self):\n",
    "        env = self.exercises.gym.make('MountainCar-v0')\n",
    "        demonstrations = self.exercises.demonstration_indx(env,20)\n",
    "        matrix_features = np.eye((400))\n",
    "        expert = self.exercises.expert_config(matrix_features, demonstrations)\n",
    "        self.assertEqual(len(expert), 400)\n",
    "        \n",
    "    def test_use_reward(self):\n",
    "        env = self.exercises.gym.make('MountainCar-v0')\n",
    "        demonstrations = self.exercises.demonstration_indx(env,20)\n",
    "        matrix_features = np.eye((400))\n",
    "        expert = self.exercises.expert_config(matrix_features, demonstrations)\n",
    "        learner_features = np.zeros(400)\n",
    "        theta = -(np.random.uniform(size =(400,)))\n",
    "        self.assertEqual(self.exercises.use_reward(matrix_features, theta, 400, 0) < 0, True)\n",
    "      "
   ]
  },
  {
   "cell_type": "code",
   "execution_count": 6,
   "metadata": {
    "pycharm": {
     "name": "#%%\n"
    }
   },
   "outputs": [
    {
     "name": "stderr",
     "output_type": "stream",
     "text": [
      "test_attach_state (__main__.TestTrainingIRLAgent) ... ok\n",
      "test_demo_index (__main__.TestTrainingIRLAgent) ... ok\n",
      "test_expert_config (__main__.TestTrainingIRLAgent) ... ok\n",
      "test_use_reward (__main__.TestTrainingIRLAgent) ... ok\n",
      "\n",
      "----------------------------------------------------------------------\n",
      "Ran 4 tests in 0.153s\n",
      "\n",
      "OK\n"
     ]
    },
    {
     "data": {
      "text/plain": [
       "<unittest.runner.TextTestResult run=4 errors=0 failures=0>"
      ]
     },
     "execution_count": 6,
     "metadata": {},
     "output_type": "execute_result"
    }
   ],
   "source": [
    "suite = unittest.TestLoader().loadTestsFromTestCase(TestTrainingIRLAgent)\n",
    "unittest.TextTestRunner(verbosity=2).run(suite)"
   ]
  }
 ],
 "metadata": {
  "kernelspec": {
   "display_name": "Python 3",
   "language": "python",
   "name": "python3"
  },
  "language_info": {
   "codemirror_mode": {
    "name": "ipython",
    "version": 3
   },
   "file_extension": ".py",
   "mimetype": "text/x-python",
   "name": "python",
   "nbconvert_exporter": "python",
   "pygments_lexer": "ipython3",
   "version": "3.7.3"
  }
 },
 "nbformat": 4,
 "nbformat_minor": 1
}

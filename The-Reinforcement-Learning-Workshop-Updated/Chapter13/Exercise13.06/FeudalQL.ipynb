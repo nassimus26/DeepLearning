{
 "cells": [
  {
   "cell_type": "code",
   "execution_count": 1,
   "metadata": {
    "pycharm": {
     "is_executing": true
    }
   },
   "outputs": [],
   "source": [
    "#import packages\n",
    "import numpy as np\n",
    "import pandas as pd"
   ]
  },
  {
   "cell_type": "code",
   "execution_count": 2,
   "metadata": {},
   "outputs": [],
   "source": [
    "class FQlearnTable:\n",
    "    #initialize the table by dividing it into layers based on the actions\n",
    "    def __init__(self,no_actions,no_layers=3):\n",
    "        self.no_acts = no_actions\n",
    "        self.no_layers = no_layers\n",
    "        self.levels = {0: FLevel(action = [no_actions])}\n",
    "        if(no_layers > 1):\n",
    "            for i in range(1, no_layers-1):\n",
    "                self.levels[i] = FLevel(action = list(range(no_actions+1)))\n",
    "            self.levels[no_layers - 1] = FLevel(action = list(range(no_actions)))\n",
    "\n",
    "# function for selecting an action depending on the level of the state\n",
    "    def select_action(self, current_state):\n",
    "        lev_state = self.get_lev_st(current_state)\n",
    "        action_array = []\n",
    "        for act in range(self.no_layers):\n",
    "            action_array.append(self.levels[act].select_action(lev_state[act]))\n",
    "        return action_array\n",
    "\n",
    "#function capturing the model tuples based on the state update by allocating the lower level reward\n",
    "    def memory(self, current_state, action, reward, new_state, done):\n",
    "        lev_state = self.get_lev_st(current_state)\n",
    "        lev_primes = self.get_lev_st(new_state)\n",
    "\n",
    "        good_r = 0\n",
    "        bad_r = -1\n",
    "\n",
    "        for i in range(self.no_layers):\n",
    "            if i == 0:\n",
    "                rwd = reward\n",
    "            else:\n",
    "                if action[i-1] == 4:\n",
    "                    rwd = reward\n",
    "                else:\n",
    "                    if action[i-1] == action[i]:\n",
    "                        rwd = good_r\n",
    "                    else:\n",
    "                        rwd = bad_r\n",
    "\n",
    "            self.levels[i].memory(lev_state[i], action[i],\n",
    "                                  rwd, lev_primes[i], done)\n",
    "\n",
    "#function for updating the state based on the hierarchical levels\n",
    "    def get_lev_st(self,current_state):\n",
    "        state_array = []\n",
    "        state_array.append(current_state)\n",
    "        for i in range(self.no_layers -2, -1, -1):\n",
    "            state_array.append((int(state_array[-1][0]/2),int(state_array[-1][1]/2)))\n",
    "#         state_array.remove()\n",
    "        return state_array\n"
   ]
  },
  {
   "cell_type": "code",
   "execution_count": 3,
   "metadata": {
    "pycharm": {
     "name": "#%%\n"
    }
   },
   "outputs": [],
   "source": [
    "class FLevel:\n",
    "#initializing the parameters for q-learning\n",
    "    def __init__(self, action, lr = 0.01, r_decay=0.9, epsilon_g =0.9):\n",
    "        self.action = action\n",
    "        self.lr = lr\n",
    "        self.gamma = r_decay\n",
    "        self.epsilon = epsilon_g\n",
    "        self.q_table = pd.DataFrame(columns=self.action, dtype=np.float_)\n",
    "\n",
    "#function for action selection \n",
    "    def select_action(self, obs):\n",
    "        obs = str(obs)\n",
    "        self.verify_state(obs)\n",
    "        #select action\n",
    "        if np.random.uniform() < self.epsilon:\n",
    "            #select the best action\n",
    "            best = self.q_table.loc[obs, :]\n",
    "            best = best.reindex(np.random.permutation(best.index))\n",
    "            action = best.idxmax()\n",
    "        else:\n",
    "            action = np.random.choice(self.action)\n",
    "        return action\n",
    "    \n",
    "#a function for updating the q-table \n",
    "    def memory(self, current_state, act, reward, new_state, done):\n",
    "        current_state = str(current_state)\n",
    "        new_state = str(new_state)\n",
    "        self.verify_state(new_state)\n",
    "        new_q = self.q_table.loc[current_state, act]\n",
    "        if not done:\n",
    "            q_threshold = reward + self.gamma * self.q_table.loc[new_state, :].max()\n",
    "        else:\n",
    "            q_threshold = reward\n",
    "        self.q_table.loc[current_state,act] += self.lr * (q_threshold - new_q)\n",
    "\n",
    "#function that checks for the index of the state corresponding to the specific level\n",
    "    def verify_state(self, current_state):\n",
    "        if current_state not in self.q_table.index:\n",
    "            self.q_table = self.q_table.append(pd.Series(\n",
    "                [0]*len(self.action), index= self.q_table.columns,\n",
    "                name = str(current_state),))"
   ]
  },
  {
   "cell_type": "code",
   "execution_count": 4,
   "metadata": {},
   "outputs": [
    {
     "name": "stdout",
     "output_type": "stream",
     "text": [
      "Q_Table at start\n",
      " Empty DataFrame\n",
      "Columns: [Left, Right, Top, Bottom]\n",
      "Index: []\n",
      "\n",
      "\n",
      "Q Table after verifying initial state\n",
      "         Left  Right  Top  Bottom\n",
      "(0, 0)   0.0    0.0  0.0     0.0\n",
      "\n",
      "\n",
      "Q Table after making a transition and getting a reward\n",
      "         Left  Right  Top  Bottom\n",
      "(0, 0)   0.0   0.04  0.0     0.0\n",
      "(0, 1)   0.0   0.00  0.0     0.0\n"
     ]
    }
   ],
   "source": [
    "flevel = FLevel(['Left','Right','Top','Bottom'])  #grid world with four actions\n",
    "print(\"Q_Table at start\\n\", flevel.q_table)\n",
    "start_state=(0,0) # the grid world (x,y) coordinates\n",
    "flevel.verify_state(start_state)\n",
    "print(\"\\n\\nQ Table after verifying initial state\\n\", flevel.q_table)\n",
    "\n",
    "# now update memory for taking an action 'Right' and moving from (0,0) to (0,1) with done=False(i.e. episode has not ended)\n",
    "flevel.memory((0,0), 'Right', 4, (0,1), False)\n",
    "print(\"\\n\\nQ Table after making a transition and getting a reward\\n\", flevel.q_table)\n",
    "\n"
   ]
  }
 ],
 "metadata": {
  "kernelspec": {
   "display_name": "Python 3",
   "language": "python",
   "name": "python3"
  },
  "language_info": {
   "codemirror_mode": {
    "name": "ipython",
    "version": 3
   },
   "file_extension": ".py",
   "mimetype": "text/x-python",
   "name": "python",
   "nbconvert_exporter": "python",
   "pygments_lexer": "ipython3",
   "version": "3.7.3"
  }
 },
 "nbformat": 4,
 "nbformat_minor": 1
}

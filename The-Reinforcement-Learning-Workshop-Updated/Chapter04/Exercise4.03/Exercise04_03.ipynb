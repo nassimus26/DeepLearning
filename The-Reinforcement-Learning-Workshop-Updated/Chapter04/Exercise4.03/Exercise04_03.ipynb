{
 "cells": [
  {
   "cell_type": "code",
   "execution_count": 1,
   "metadata": {},
   "outputs": [],
   "source": [
    "import numpy as np \n",
    "import gym \n",
    "import tensorflow as tf "
   ]
  },
  {
   "cell_type": "code",
   "execution_count": 2,
   "metadata": {},
   "outputs": [],
   "source": [
    "env = gym.make('CartPole-v0')   "
   ]
  },
  {
   "cell_type": "code",
   "execution_count": 3,
   "metadata": {},
   "outputs": [
    {
     "name": "stdout",
     "output_type": "stream",
     "text": [
      "Action space = Discrete(2)\n",
      "Observation space = Box(4,)\n"
     ]
    }
   ],
   "source": [
    "print(\"Action space =\", env.action_space)  \n",
    "print(\"Observation space =\", env.observation_space)"
   ]
  },
  {
   "cell_type": "code",
   "execution_count": 4,
   "metadata": {},
   "outputs": [
    {
     "name": "stdout",
     "output_type": "stream",
     "text": [
      "Action space dimension = 2\n",
      "Observation space dimension = 4\n"
     ]
    }
   ],
   "source": [
    "print(\"Action space dimension =\", env.action_space.n)  \n",
    "print(\"Observation space dimension =\", env.observation_space.shape[0]) "
   ]
  },
  {
   "cell_type": "code",
   "execution_count": 5,
   "metadata": {},
   "outputs": [
    {
     "name": "stdout",
     "output_type": "stream",
     "text": [
      "Model: \"sequential\"\n",
      "_________________________________________________________________\n",
      "Layer (type)                 Output Shape              Param #   \n",
      "=================================================================\n",
      "dense (Dense)                (None, 64)                320       \n",
      "_________________________________________________________________\n",
      "dense_1 (Dense)              (None, 64)                4160      \n",
      "_________________________________________________________________\n",
      "dense_2 (Dense)              (None, 2)                 130       \n",
      "=================================================================\n",
      "Total params: 4,610\n",
      "Trainable params: 4,610\n",
      "Non-trainable params: 0\n",
      "_________________________________________________________________\n"
     ]
    }
   ],
   "source": [
    "model = tf.keras.Sequential([ \n",
    "        tf.keras.layers.Dense(64, activation='relu', \n",
    "                         input_shape=[env.observation_space.shape[0]]), \n",
    "        tf.keras.layers.Dense(64, activation='relu'), \n",
    "        tf.keras.layers.Dense(env.action_space.n, activation=\"softmax\") \n",
    "]) \n",
    "\n",
    "model.summary() "
   ]
  },
  {
   "cell_type": "code",
   "execution_count": 6,
   "metadata": {},
   "outputs": [],
   "source": [
    "t = 1 \n",
    "observation = env.reset() "
   ]
  },
  {
   "cell_type": "code",
   "execution_count": 7,
   "metadata": {},
   "outputs": [
    {
     "name": "stdout",
     "output_type": "stream",
     "text": [
      "Observation =  [ 0.04049976 -0.04825847 -0.03808759 -0.03095099]\n",
      "Action =  0\n",
      "Reward =  1.0\n",
      "Observation =  [ 0.03953459 -0.24281411 -0.03870661  0.24947578]\n",
      "Action =  0\n",
      "Reward =  1.0\n",
      "Observation =  [ 0.03467831 -0.43736254 -0.03371709  0.52970295]\n",
      "Action =  0\n",
      "Reward =  1.0\n",
      "Observation =  [ 0.02593106 -0.63199435 -0.02312303  0.81157378]\n",
      "Action =  0\n",
      "Reward =  1.0\n",
      "Observation =  [ 0.01329117 -0.82679204 -0.00689156  1.09689463]\n",
      "Action =  0\n",
      "Reward =  1.0\n",
      "Observation =  [-0.00324467 -1.02182257  0.01504633  1.38740738]\n",
      "Action =  0\n",
      "Reward =  1.0\n",
      "Observation =  [-0.02368112 -1.21712879  0.04279448  1.684757  ]\n",
      "Action =  0\n",
      "Reward =  1.0\n",
      "Observation =  [-0.0480237  -1.41271906  0.07648962  1.99045154]\n",
      "Action =  0\n",
      "Reward =  1.0\n",
      "Observation =  [-0.07627808 -1.60855467  0.11629865  2.30581208]\n",
      "Action =  0\n",
      "Reward =  1.0\n",
      "Observation =  [-0.10844917 -1.80453455  0.16241489  2.63191088]\n",
      "Action =  0\n",
      "Reward =  1.0\n",
      "Episode finished after 11 timesteps\n"
     ]
    }
   ],
   "source": [
    "while True: \n",
    "\n",
    "    # Render the environment \n",
    "    env.render()  \n",
    "\n",
    "    # Print the observation \n",
    "    print(\"Observation = \", observation) \n",
    "\n",
    "    # Let the model choose actions from state representation \n",
    "    action_probabilities = model.predict(np.expand_dims(observation, \n",
    "                                         axis=0)) \n",
    "\n",
    "    action = np.argmax(action_probabilities) \n",
    "    print(\"Action = \", action) \n",
    "\n",
    "    # Step the environment with the selected action \n",
    "    observation, reward, done, info = env.step(action) \n",
    "\n",
    "    # Print received reward \n",
    "    print(\"Reward = \", reward) \n",
    "\n",
    "    # If terminal state reached, close the environment \n",
    "    if done:  \n",
    "        print(\"Episode finished after {} timesteps\".format(t+1))  \n",
    "        break  \n",
    "\n",
    "    t += 1 \n",
    "\n",
    "env.close() "
   ]
  }
 ],
 "metadata": {
  "kernelspec": {
   "display_name": "Python 3",
   "language": "python",
   "name": "python3"
  },
  "language_info": {
   "codemirror_mode": {
    "name": "ipython",
    "version": 3
   },
   "file_extension": ".py",
   "mimetype": "text/x-python",
   "name": "python",
   "nbconvert_exporter": "python",
   "pygments_lexer": "ipython3",
   "version": "3.7.4"
  }
 },
 "nbformat": 4,
 "nbformat_minor": 4
}

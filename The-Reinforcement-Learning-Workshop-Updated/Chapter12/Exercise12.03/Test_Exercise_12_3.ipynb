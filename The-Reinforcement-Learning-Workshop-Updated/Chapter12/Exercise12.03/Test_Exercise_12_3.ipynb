{
 "cells": [
  {
   "cell_type": "code",
   "execution_count": 1,
   "metadata": {},
   "outputs": [],
   "source": [
    "import unittest\n",
    "import import_ipynb\n",
    "import numpy as np\n",
    "\n",
    "class TestExercise12_3(unittest.TestCase):\n",
    "    def setUp(self):\n",
    "        import Exercise_12_3\n",
    "        self.exercises = Exercise_12_3\n",
    "        \n",
    "    def test_original_population(self):\n",
    "        pop = self.exercises.original_population(2,3)\n",
    "        self.assertEqual(len(pop[0]),len(pop[1]))\n",
    "        \n",
    "    def test_create_target_solution(self):\n",
    "        target = self.exercises.create_target_solution(100)\n",
    "        self.assertEqual(len(target), 100)\n",
    "\n",
    "        \n",
    "    def test_fitness_function(self):\n",
    "        target = np.zeros(4)\n",
    "        pop = self.exercises.original_population(2,4)\n",
    "        weights = self.exercises.fitness_function(target, pop)\n",
    "        self.assertEqual(len(weights),2)\n",
    "        \n",
    "        \n"
   ]
  },
  {
   "cell_type": "code",
   "execution_count": 2,
   "metadata": {},
   "outputs": [
    {
     "name": "stderr",
     "output_type": "stream",
     "text": [
      "test_create_target_solution (__main__.TestExercise12_3) ... ok\n",
      "test_fitness_function (__main__.TestExercise12_3) ... ok\n",
      "test_original_population (__main__.TestExercise12_3) ... "
     ]
    },
    {
     "name": "stdout",
     "output_type": "stream",
     "text": [
      "importing Jupyter notebook from Exercise_12_3.ipynb\n",
      "\n",
      " target: [0. 1. 1. 1. 1. 0. 0. 0.]\n",
      "Index: 0 \n",
      " chromosome: [0. 0. 0. 0. 0. 1. 1. 0.] \n",
      " similarity to target: 2\n",
      "Index: 1 \n",
      " chromosome: [1. 1. 1. 1. 0. 1. 1. 1.] \n",
      " similarity to target: 3\n",
      "Index: 2 \n",
      " chromosome: [0. 1. 0. 0. 1. 0. 1. 0.] \n",
      " similarity to target: 5\n",
      "Index: 3 \n",
      " chromosome: [0. 1. 0. 0. 1. 1. 1. 1.] \n",
      " similarity to target: 3\n",
      "Index: 4 \n",
      " chromosome: [0. 1. 0. 1. 1. 0. 1. 1.] \n",
      " similarity to target: 5\n"
     ]
    },
    {
     "name": "stderr",
     "output_type": "stream",
     "text": [
      "ok\n",
      "\n",
      "----------------------------------------------------------------------\n",
      "Ran 3 tests in 0.040s\n",
      "\n",
      "OK\n"
     ]
    },
    {
     "data": {
      "text/plain": [
       "<unittest.runner.TextTestResult run=3 errors=0 failures=0>"
      ]
     },
     "execution_count": 2,
     "metadata": {},
     "output_type": "execute_result"
    }
   ],
   "source": [
    "suite = unittest.TestLoader().loadTestsFromTestCase(TestExercise12_3)\n",
    "unittest.TextTestRunner(verbosity=2).run(suite)"
   ]
  }
 ],
 "metadata": {
  "kernelspec": {
   "display_name": "Python 3",
   "language": "python",
   "name": "python3"
  },
  "language_info": {
   "codemirror_mode": {
    "name": "ipython",
    "version": 3
   },
   "file_extension": ".py",
   "mimetype": "text/x-python",
   "name": "python",
   "nbconvert_exporter": "python",
   "pygments_lexer": "ipython3",
   "version": "3.7.3"
  }
 },
 "nbformat": 4,
 "nbformat_minor": 1
}
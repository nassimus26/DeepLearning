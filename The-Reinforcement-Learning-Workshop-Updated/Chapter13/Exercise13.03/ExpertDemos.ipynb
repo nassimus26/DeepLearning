{
 "cells": [
  {
   "cell_type": "code",
   "execution_count": 1,
   "metadata": {},
   "outputs": [],
   "source": [
    "#import packages\n",
    "import gym\n",
    "import numpy as np\n",
    "from pynput import keyboard"
   ]
  },
  {
   "cell_type": "code",
   "execution_count": 2,
   "metadata": {},
   "outputs": [],
   "source": [
    "#create function for outputting actions based on the arrow keys \n",
    "def key_call():\n",
    "    with keyboard.Events() as events:\n",
    "        for event in events:\n",
    "            if event.key == keyboard.Key.left:\n",
    "                return 0\n",
    "\n",
    "            elif event.key == keyboard.Key.down:\n",
    "                return 1\n",
    "\n",
    "            elif event.key == keyboard.Key.right:\n",
    "                return 2"
   ]
  },
  {
   "cell_type": "code",
   "execution_count": 3,
   "metadata": {},
   "outputs": [
    {
     "name": "stdout",
     "output_type": "stream",
     "text": [
      "Shape of transition: (200, 3)\n",
      "Shape of transitions array (1, 200, 3)\n"
     ]
    }
   ],
   "source": [
    "#initialise mountain car environment\n",
    "env = gym.make('MountainCar-v0')\n",
    "\n",
    "transitions = []\n",
    "episodes = 0\n",
    "\n",
    "#run for loop for episodes\n",
    "for episode in range(1):\n",
    "    transition = []\n",
    "    step = 0\n",
    "\n",
    "    env.reset()\n",
    "\n",
    "#run for loop for steps\n",
    "    for step in range(200):\n",
    "\n",
    "        env.render()\n",
    "\n",
    "        action = key_call()\n",
    "        current_state, reward, done, _ = env.step(action)\n",
    "\n",
    "#set condition for episode end if goal is achieved\n",
    "        if current_state[0] >= env.env.goal_position and step > 129:\n",
    "            break\n",
    "\n",
    "# capture transitions per step\n",
    "        transition.append((current_state[0],current_state[1], action))\n",
    "        step +=1\n",
    "\n",
    "#capture the transitions per episode\n",
    "    trans = np.array(transition, float)\n",
    "    print(\"Shape of transition:\", trans.shape)\n",
    "    episodes += 1\n",
    "    transitions.append(transition)\n",
    "\n",
    "#reshape transitions for each episode and print them\n",
    "transitions_array = np.array(transitions,float)\n",
    "\n",
    "print(\"Shape of transitions array\", transitions_array.shape)\n",
    "# save the array of demonstration in a file\n",
    "np.save(\"Expert demonstration\", arr= transitions_array)\n"
   ]
  }
 ],
 "metadata": {
  "kernelspec": {
   "display_name": "Python 3",
   "language": "python",
   "name": "python3"
  },
  "language_info": {
   "codemirror_mode": {
    "name": "ipython",
    "version": 3
   },
   "file_extension": ".py",
   "mimetype": "text/x-python",
   "name": "python",
   "nbconvert_exporter": "python",
   "pygments_lexer": "ipython3",
   "version": "3.7.3"
  }
 },
 "nbformat": 4,
 "nbformat_minor": 1
}

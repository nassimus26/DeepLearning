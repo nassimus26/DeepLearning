{
 "cells": [
  {
   "cell_type": "code",
   "execution_count": 5,
   "metadata": {},
   "outputs": [],
   "source": [
    "import unittest\n",
    "import import_ipynb\n",
    "import pandas as pd\n",
    "import pandas.testing as pd_testing\n",
    "import tensorflow as tf\n",
    "\n",
    "class TestExercise03_06(unittest.TestCase):\n",
    "    def setUp(self):\n",
    "        import Exercise03_06\n",
    "        self.exercises = Exercise03_06\n",
    "       \n",
    "    def test_accuracy(self):\n",
    "        print(self.exercises.small_model_accuracy)\n",
    "        print(self.exercises.large_model_accuracy)\n",
    "        print(self.exercises.regularization_model_accuracy)\n",
    "        self.assertEqual(self.exercises.small_model_accuracy < 0.69, True)\n",
    "        self.assertEqual(self.exercises.large_model_accuracy < 0.67, True)\n",
    "        self.assertEqual(self.exercises.regularization_model_accuracy > 0.68, True)\n",
    "        self.assertEqual(self.exercises.regularization_model_accuracy > self.exercises.small_model_accuracy, True)\n",
    "        self.assertEqual(self.exercises.small_model_accuracy > self.exercises.large_model_accuracy, True)\n",
    "\n"
   ]
  },
  {
   "cell_type": "code",
   "execution_count": 6,
   "metadata": {},
   "outputs": [
    {
     "name": "stderr",
     "output_type": "stream",
     "text": [
      "test_accuracy (__main__.TestExercise03_02) ... "
     ]
    },
    {
     "name": "stdout",
     "output_type": "stream",
     "text": [
      "tf.Tensor(0.684, shape=(), dtype=float32)\n",
      "tf.Tensor(0.663, shape=(), dtype=float32)\n",
      "tf.Tensor(0.694, shape=(), dtype=float32)\n"
     ]
    },
    {
     "name": "stderr",
     "output_type": "stream",
     "text": [
      "ok\n",
      "\n",
      "----------------------------------------------------------------------\n",
      "Ran 1 test in 0.004s\n",
      "\n",
      "OK\n"
     ]
    },
    {
     "data": {
      "text/plain": [
       "<unittest.runner.TextTestResult run=1 errors=0 failures=0>"
      ]
     },
     "execution_count": 6,
     "metadata": {},
     "output_type": "execute_result"
    }
   ],
   "source": [
    "suite = unittest.TestLoader().loadTestsFromTestCase(TestExercise03_06)\n",
    "unittest.TextTestRunner(verbosity=2).run(suite)"
   ]
  },
  {
   "cell_type": "code",
   "execution_count": null,
   "metadata": {},
   "outputs": [],
   "source": []
  }
 ],
 "metadata": {
  "kernelspec": {
   "display_name": "Python 3",
   "language": "python",
   "name": "python3"
  },
  "language_info": {
   "codemirror_mode": {
    "name": "ipython",
    "version": 3
   },
   "file_extension": ".py",
   "mimetype": "text/x-python",
   "name": "python",
   "nbconvert_exporter": "python",
   "pygments_lexer": "ipython3",
   "version": "3.7.4"
  }
 },
 "nbformat": 4,
 "nbformat_minor": 4
}

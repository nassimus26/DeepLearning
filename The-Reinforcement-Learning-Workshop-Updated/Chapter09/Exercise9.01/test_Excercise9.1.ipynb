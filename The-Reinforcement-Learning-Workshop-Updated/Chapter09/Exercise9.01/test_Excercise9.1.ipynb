{
 "cells": [
  {
   "cell_type": "code",
   "execution_count": 1,
   "metadata": {},
   "outputs": [
    {
     "name": "stdout",
     "output_type": "stream",
     "text": [
      "importing Jupyter notebook from Exercise9_01.ipynb\n",
      "Epoch 1/20, Loss: 197161.6719\n",
      "Epoch 2/20, Loss: 193804.7031\n",
      "Epoch 3/20, Loss: 190281.2500\n",
      "Epoch 4/20, Loss: 186696.5938\n",
      "Epoch 5/20, Loss: 183055.7344\n",
      "Epoch 6/20, Loss: 179238.8125\n",
      "Epoch 7/20, Loss: 175353.7500\n",
      "Epoch 8/20, Loss: 171280.2500\n",
      "Epoch 9/20, Loss: 167035.2500\n",
      "Epoch 10/20, Loss: 162719.4531\n",
      "Epoch 11/20, Loss: 158334.4062\n",
      "Epoch 12/20, Loss: 153882.6094\n",
      "Epoch 13/20, Loss: 149366.9062\n",
      "Epoch 14/20, Loss: 144790.4688\n",
      "Epoch 15/20, Loss: 140156.7500\n",
      "Epoch 16/20, Loss: 135469.5312\n",
      "Epoch 17/20, Loss: 130733.0781\n",
      "Epoch 18/20, Loss: 125952.0391\n",
      "Epoch 19/20, Loss: 121131.5859\n",
      "Epoch 20/20, Loss: 116246.0781\n",
      "tensor([[ 83.7877],\n",
      "        [112.8651],\n",
      "        [122.2309],\n",
      "        [ 84.7179],\n",
      "        [109.7654]], grad_fn=<AddmmBackward>)\n"
     ]
    }
   ],
   "source": [
    "import unittest\n",
    "import import_ipynb\n",
    "import Exercise9_01"
   ]
  },
  {
   "cell_type": "code",
   "execution_count": 4,
   "metadata": {},
   "outputs": [],
   "source": [
    "class myTest(unittest.TestCase):\n",
    "\n",
    "    def test_checkInputShape(self):\n",
    "        dim1 = Exercise9_01.inputs.shape[0]\n",
    "        self.assertEqual(dim1,5)\n",
    "        dim2 = Exercise9_01.inputs.shape[1]\n",
    "        self.assertEqual(dim2,3)\n",
    "    def test_checkTargetShape(self):\n",
    "        dim1_target = Exercise9_01.targets.shape[0]\n",
    "        self.assertEqual(dim1_target,5)\n",
    "        dim2_target = Exercise9_01.targets.shape[1]\n",
    "        self.assertEqual(dim2_target,1)\n",
    "    def test_checkOutputShape(self):\n",
    "        dim1_target = Exercise9_01.targets.shape[0]\n",
    "        dim1_op = Exercise9_01.outputs.shape[0]\n",
    "        self.assertEqual(dim1_op,dim1_target)\n",
    "        dim2_target = Exercise9_01.targets.shape[1]\n",
    "        dim2_op = Exercise9_01.outputs.shape[1]\n",
    "        self.assertEqual(dim2_op,dim2_target)"
   ]
  },
  {
   "cell_type": "code",
   "execution_count": 5,
   "metadata": {},
   "outputs": [
    {
     "name": "stderr",
     "output_type": "stream",
     "text": [
      "test_checkInputShape (__main__.myTest) ... ok\n",
      "test_checkOutputShape (__main__.myTest) ... ok\n",
      "test_checkTargetShape (__main__.myTest) ... ok\n",
      "\n",
      "----------------------------------------------------------------------\n",
      "Ran 3 tests in 0.005s\n",
      "\n",
      "OK\n"
     ]
    },
    {
     "data": {
      "text/plain": [
       "<unittest.main.TestProgram at 0x2843144a630>"
      ]
     },
     "execution_count": 5,
     "metadata": {},
     "output_type": "execute_result"
    }
   ],
   "source": [
    "unittest.main(argv=[''], verbosity=2, exit=False)"
   ]
  }
 ],
 "metadata": {
  "kernelspec": {
   "display_name": "Python 3",
   "language": "python",
   "name": "python3"
  },
  "language_info": {
   "codemirror_mode": {
    "name": "ipython",
    "version": 3
   },
   "file_extension": ".py",
   "mimetype": "text/x-python",
   "name": "python",
   "nbconvert_exporter": "python",
   "pygments_lexer": "ipython3",
   "version": "3.7.3"
  }
 },
 "nbformat": 4,
 "nbformat_minor": 2
}

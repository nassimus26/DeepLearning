{
  "nbformat": 4,
  "nbformat_minor": 0,
  "metadata": {
    "colab": {
      "name": "Exercise5.01.ipynb",
      "provenance": []
    },
    "kernelspec": {
      "name": "python3",
      "display_name": "Python 3"
    }
  },
  "cells": [
    {
      "cell_type": "code",
      "metadata": {
        "id": "O26IzdLp0oI4",
        "colab_type": "code",
        "colab": {}
      },
      "source": [
        "def tribonacci_recursive(n):\n",
        "    \"\"\"\n",
        "    Uses recursion to calculate the nth tribonacci number\n",
        "    Args:\n",
        "        n: the number\n",
        "\n",
        "    Returns:\n",
        "        nth tribonacci number\n",
        "    \"\"\"\n",
        "    if n <= 1:\n",
        "        return 0\n",
        "    elif n == 2:\n",
        "        return 1\n",
        "    else:\n",
        "        return tribonacci_recursive(n - 1) + tribonacci_recursive(n - 2) + \\\n",
        "                tribonacci_recursive(n - 3)\n"
      ],
      "execution_count": 0,
      "outputs": []
    },
    {
      "cell_type": "code",
      "metadata": {
        "id": "wC46x4ru0wfx",
        "colab_type": "code",
        "colab": {
          "base_uri": "https://localhost:8080/",
          "height": 34
        },
        "outputId": "fd6cfe16-d4ac-4e09-d0f1-16d39f947938"
      },
      "source": [
        "if __name__ == '__main__':\n",
        "    print(tribonacci_recursive(6))\n"
      ],
      "execution_count": 9,
      "outputs": [
        {
          "output_type": "stream",
          "text": [
            "7\n"
          ],
          "name": "stdout"
        }
      ]
    },
    {
      "cell_type": "code",
      "metadata": {
        "id": "AndFYjAC0xxA",
        "colab_type": "code",
        "colab": {}
      },
      "source": [
        "def tribonacci_memo(n, memo):\n",
        "    \"\"\"\n",
        "    Uses memoization to calculate the nth tribonacci number\n",
        "    Args:\n",
        "        n: the number\n",
        "        memo: the dictionary that stores intermediate results\n",
        "    Returns:\n",
        "        nth tribonacci number\n",
        "    \"\"\"\n",
        "    if n in memo:\n",
        "        return memo[n]\n",
        "    else:\n",
        "        ans1 = tribonacci_memo(n - 1, memo)\n",
        "        ans2 = tribonacci_memo(n - 2, memo)\n",
        "        ans3 = tribonacci_memo(n - 3, memo)\n",
        "        res = ans1 + ans2 + ans3\n",
        "        memo[n] = res\n",
        "        return res\n"
      ],
      "execution_count": 0,
      "outputs": []
    },
    {
      "cell_type": "code",
      "metadata": {
        "id": "JkEsA5Um01D4",
        "colab_type": "code",
        "colab": {
          "base_uri": "https://localhost:8080/",
          "height": 34
        },
        "outputId": "5673690d-2cca-417c-a5f9-02242000e426"
      },
      "source": [
        "if __name__ == '__main__':\n",
        "    memo = {0: 0, 1: 0, 2: 1}\n",
        "    print(tribonacci_memo(6, memo))\n"
      ],
      "execution_count": 11,
      "outputs": [
        {
          "output_type": "stream",
          "text": [
            "7\n"
          ],
          "name": "stdout"
        }
      ]
    }
  ]
}
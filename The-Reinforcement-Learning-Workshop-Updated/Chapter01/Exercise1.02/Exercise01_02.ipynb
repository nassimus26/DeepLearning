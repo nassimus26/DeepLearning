{
 "cells": [
  {
   "cell_type": "code",
   "execution_count": 1,
   "metadata": {},
   "outputs": [],
   "source": [
    "from typing import Callable, List\n",
    "\n",
    "import matplotlib\n",
    "from matplotlib import pyplot as plt\n",
    "\n",
    "import numpy as np\n",
    "import scipy.stats"
   ]
  },
  {
   "cell_type": "code",
   "execution_count": 2,
   "metadata": {},
   "outputs": [],
   "source": [
    "class LinearPolicy:\n",
    "    def __init__(\n",
    "        self, parameters: np.ndarray, features: Callable[[np.ndarray], np.ndarray]\n",
    "    ):\n",
    "        \"\"\"\n",
    "        Linear Policy Constructor.\n",
    "        \n",
    "        Args:\n",
    "            parameters (np.ndarray): policy parameters as np.ndarray.\n",
    "            features (np.ndarray): features to be extracted from the state representation.\n",
    "        \"\"\"\n",
    "        self._parameters = parameters\n",
    "        self._features = features\n",
    "\n",
    "    def __call__(self, state: np.ndarray) -> np.ndarray:\n",
    "        \"\"\"\n",
    "        Call method of the Policy.\n",
    "        \n",
    "        Args:\n",
    "            state (np.ndarray): environment state.\n",
    "        \n",
    "        Returns:\n",
    "            The resulting action.\n",
    "        \"\"\"\n",
    "\n",
    "        # calculate state features\n",
    "        state_features = self._features(state)\n",
    "\n",
    "        # the parameters shape [0] should be the same as the state features\n",
    "        # as they must be multiplied\n",
    "        assert state_features.shape[0] == self._parameters.shape[0]\n",
    "\n",
    "        # dot product between parameters and state features\n",
    "        return np.dot(self._parameters.T, state_features)"
   ]
  },
  {
   "cell_type": "code",
   "execution_count": 3,
   "metadata": {},
   "outputs": [
    {
     "name": "stdout",
     "output_type": "stream",
     "text": [
      "[[1.33244481]]\n"
     ]
    }
   ],
   "source": [
    "# sample a random set of parameters\n",
    "parameters = np.random.rand(5, 1)\n",
    "\n",
    "# define the state features as identity function\n",
    "features = lambda x: x\n",
    "\n",
    "# define the policy\n",
    "pi: LinearPolicy = LinearPolicy(parameters, features)\n",
    "\n",
    "# sample a state\n",
    "state = np.random.rand(5, 1)\n",
    "\n",
    "# Call the policy obtaining the action\n",
    "action = pi(state)\n",
    "\n",
    "print(action)"
   ]
  },
  {
   "cell_type": "code",
   "execution_count": 4,
   "metadata": {},
   "outputs": [],
   "source": [
    "class GaussianPolicy:\n",
    "    def __init__(\n",
    "        self,\n",
    "        mu_parameters: np.ndarray,\n",
    "        sigma_parameters: np.ndarray,\n",
    "        features: Callable[[np.ndarray], np.ndarray],\n",
    "    ):\n",
    "        \"\"\"\n",
    "        Linear Policy Constructor.\n",
    "        \n",
    "        Args:\n",
    "            mu_parameters (np.ndarray): policy parameters of the mean (\\mu) as np.ndarray.\n",
    "            sigma_parameters (np.ndarray): policy parameters of the standard deviation as np.ndarray.\n",
    "            features (np.ndarray): features to be extracted from the state representation.\n",
    "        \"\"\"\n",
    "        self._mu_parameters = mu_parameters\n",
    "        self._sigma_parameters = sigma_parameters\n",
    "        self._features = features\n",
    "\n",
    "    def __call__(self, state: np.ndarray) -> np.ndarray:\n",
    "        \"\"\"\n",
    "        Call method of the Policy.\n",
    "        \n",
    "        Args:\n",
    "            state (np.ndarray): environment state.\n",
    "        \n",
    "        Returns:\n",
    "            The action sampled from the policy distribution.\n",
    "        \"\"\"\n",
    "\n",
    "        # calculate state features\n",
    "        state_features = self._features(state)\n",
    "\n",
    "        # the parameters shape [0] should be the same as the state features\n",
    "        # as they must be multiplied\n",
    "        assert state_features.shape[0] == self._mu_parameters.shape[0]\n",
    "        assert state_features.shape[0] == self._sigma_parameters.shape[0]\n",
    "\n",
    "        # dot product between parameters and state features\n",
    "        # \\mu is the mean of the gaussian\n",
    "        mu = np.dot(self._mu_parameters.T, state_features)\n",
    "        # the stddev (sigma) should be squared to avoid negative numbers\n",
    "        sigma = np.dot(self._sigma_parameters.T, state_features) ** 2\n",
    "\n",
    "        # sample action from gaussian distribution\n",
    "        action = np.random.normal(mu, sigma)\n",
    "\n",
    "        return action\n",
    "\n",
    "    def mu(self, state: np.ndarray) -> np.ndarray:\n",
    "        \"\"\"\n",
    "        Mean of the distribution in the current state.\n",
    "        \n",
    "        Args:\n",
    "            state (np.ndarray): environment state.\n",
    "        \n",
    "        Returns:\n",
    "            mu: mean of the Gaussian distribution.\n",
    "        \"\"\"\n",
    "        # calculate state features\n",
    "        state_features = self._features(state)\n",
    "\n",
    "        # the parameters shape [0] should be the same as the state features\n",
    "        # as they must be multiplied\n",
    "        assert state_features.shape[0] == self._mu_parameters.shape[0]\n",
    "\n",
    "        return np.dot(self._mu_parameters.T, state_features)\n",
    "\n",
    "    def sigma(self, state: np.ndarray) -> np.ndarray:\n",
    "        \"\"\"\n",
    "        Stddev of the distribution in the current state.\n",
    "        \n",
    "        Args:\n",
    "            state (np.ndarray): environment state.\n",
    "            \n",
    "        Returns:\n",
    "            sigma: stddev of the Gaussian distribution.\n",
    "        \"\"\"\n",
    "        # calculate state features\n",
    "        state_features = self._features(state)\n",
    "\n",
    "        # the parameters shape [0] should be the same as the state features\n",
    "        # as they must be multiplied\n",
    "        assert state_features.shape[0] == self._sigma_parameters.shape[0]\n",
    "\n",
    "        return np.dot(self._sigma_parameters.T, state_features)"
   ]
  },
  {
   "cell_type": "code",
   "execution_count": 5,
   "metadata": {},
   "outputs": [
    {
     "name": "stdout",
     "output_type": "stream",
     "text": [
      "[[5.80702857]]\n"
     ]
    }
   ],
   "source": [
    "# sample a random set of parameters\n",
    "mu_parameters = np.random.rand(5, 1)\n",
    "sigma_parameters = np.random.rand(5, 1)\n",
    "\n",
    "# define the state features as identity function\n",
    "features = lambda x: x\n",
    "\n",
    "# define the policy\n",
    "pi: GaussianPolicy = GaussianPolicy(mu_parameters, sigma_parameters, features)\n",
    "\n",
    "# sample a state\n",
    "state = np.random.rand(5, 1)\n",
    "\n",
    "# Call the policy obtaining the action\n",
    "action = pi(state)\n",
    "\n",
    "print(action)"
   ]
  },
  {
   "cell_type": "code",
   "execution_count": 6,
   "metadata": {},
   "outputs": [],
   "source": [
    "%matplotlib inline"
   ]
  },
  {
   "cell_type": "code",
   "execution_count": 7,
   "metadata": {},
   "outputs": [
    {
     "data": {
      "text/plain": [
       "[<matplotlib.lines.Line2D at 0x12095ca58>]"
      ]
     },
     "execution_count": 7,
     "metadata": {},
     "output_type": "execute_result"
    },
    {
     "data": {
      "image/png": "[encoded data removed]",
      "text/plain": [
       "<Figure size 432x288 with 1 Axes>"
      ]
     },
     "metadata": {
      "needs_background": "light"
     },
     "output_type": "display_data"
    }
   ],
   "source": [
    "n_samples = 100\n",
    "\n",
    "samples = []\n",
    "\n",
    "# sample action from the policy and append them to the samples array\n",
    "for _ in range(n_samples):\n",
    "    samples.append(pi(state).flatten()[0])\n",
    "\n",
    "# reduce the plot size\n",
    "plt.ylim(-1e-3, 0.5)\n",
    "# plot the samples on the x axis\n",
    "plt.scatter(samples, np.zeros_like(samples))\n",
    "\n",
    "# plot the distribution\n",
    "mu = pi.mu(state).flatten()[0]\n",
    "sigma = pi.sigma(state).flatten()[0]\n",
    "x = np.linspace(mu - 3 * sigma, mu + 3 * sigma, 100)\n",
    "plt.plot(x, scipy.stats.norm.pdf(x, mu, sigma))"
   ]
  },
  {
   "cell_type": "code",
   "execution_count": 8,
   "metadata": {},
   "outputs": [],
   "source": [
    "class BoltzmannPolicy:\n",
    "    def __init__(\n",
    "        self, parameters: List[np.ndarray], features: Callable[[np.ndarray], np.ndarray]\n",
    "    ):\n",
    "        \"\"\"\n",
    "        Linear Policy Constructor.\n",
    "        \n",
    "        Args:\n",
    "            parameters (List[np.ndarray]): policy parameters for each action as np.ndarray.\n",
    "            features (np.ndarray): features to be extracted from the state representation.\n",
    "        \"\"\"\n",
    "        self._parameters = parameters\n",
    "        self._features = features\n",
    "        self._n_actions = len(self._parameters)\n",
    "\n",
    "    def __call__(self, state: np.ndarray) -> np.ndarray:\n",
    "        \"\"\"\n",
    "        Call method of the Policy.\n",
    "        \n",
    "        Args:\n",
    "            state (np.ndarray): environment state.\n",
    "            \n",
    "        Returns:\n",
    "            action: Action sampled from the action probabilities.\n",
    "        \"\"\"\n",
    "\n",
    "        # calculate state features\n",
    "        state_features = self._features(state)\n",
    "\n",
    "        # the parameters shape [0] should be the same as the state features\n",
    "        # as they must be multiplied\n",
    "        for action_params in self._parameters:\n",
    "            assert state_features.shape[0] == action_params.shape[0]\n",
    "\n",
    "        # calculate scores for each action\n",
    "        scores = []\n",
    "        for action_params in self._parameters:\n",
    "            score = np.dot(action_params.T, state_features)[0, 0]\n",
    "            scores.append(score)\n",
    "\n",
    "        # use scipy softmax function\n",
    "        action_probs = scipy.special.softmax(scores)\n",
    "\n",
    "        # sample the action according to the probabilities\n",
    "        action = np.random.choice(self._n_actions, p=action_probs)\n",
    "\n",
    "        return action"
   ]
  },
  {
   "cell_type": "code",
   "execution_count": 9,
   "metadata": {},
   "outputs": [
    {
     "name": "stdout",
     "output_type": "stream",
     "text": [
      "Selected Action is 1\n",
      "Selected action is 1\n",
      "Selected action is 2\n",
      "Selected action is 1\n",
      "Selected action is 0\n",
      "Selected action is 2\n",
      "Selected action is 2\n",
      "Selected action is 1\n",
      "Selected action is 0\n",
      "Selected action is 0\n",
      "Selected action is 1\n"
     ]
    }
   ],
   "source": [
    "n_actions = 3\n",
    "# sample a random set of parameters for each action\n",
    "parameters = [np.random.rand(5, 1) for _ in range(n_actions)]\n",
    "\n",
    "# define the state features as identity function\n",
    "features = lambda x: x\n",
    "\n",
    "# define the policy\n",
    "pi: BoltzmannPolicy = BoltzmannPolicy(parameters, features)\n",
    "\n",
    "# sample a state\n",
    "state = np.random.rand(5, 1)\n",
    "\n",
    "# Call the policy obtaining the action\n",
    "action = pi(state)\n",
    "print(\"Selected Action is\", action)\n",
    "\n",
    "# sample some actions\n",
    "for _ in range(10):\n",
    "    print(\"Selected action is\", pi(state))"
   ]
  }
 ],
 "metadata": {
  "kernelspec": {
   "display_name": "Python 3",
   "language": "python",
   "name": "python3"
  },
  "language_info": {
   "codemirror_mode": {
    "name": "ipython",
    "version": 3
   },
   "file_extension": ".py",
   "mimetype": "text/x-python",
   "name": "python",
   "nbconvert_exporter": "python",
   "pygments_lexer": "ipython3",
   "version": "3.7.4"
  }
 },
 "nbformat": 4,
 "nbformat_minor": 4
}

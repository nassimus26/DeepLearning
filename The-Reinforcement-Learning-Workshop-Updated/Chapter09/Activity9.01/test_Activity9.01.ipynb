{
 "cells": [
  {
   "cell_type": "code",
   "execution_count": 1,
   "metadata": {},
   "outputs": [
    {
     "name": "stdout",
     "output_type": "stream",
     "text": [
      "importing Jupyter notebook from Activity9_01.ipynb\n",
      "cpu\n",
      "Total number of States : 4\n",
      "Total number of Actions : 2\n",
      "Average reward: 175.79\n",
      "Average reward (last 100 episodes): 193.63\n"
     ]
    },
    {
     "data": {
      "image/png": "[encoded data removed]",
      "text/plain": [
       "<Figure size 864x360 with 1 Axes>"
      ]
     },
     "metadata": {
      "needs_background": "light"
     },
     "output_type": "display_data"
    }
   ],
   "source": [
    "import unittest\n",
    "import import_ipynb\n",
    "import Activity9_01"
   ]
  },
  {
   "cell_type": "code",
   "execution_count": 4,
   "metadata": {},
   "outputs": [],
   "source": [
    "class myTest(unittest.TestCase):\n",
    "\n",
    "    def test_EnvPropeties(self):\n",
    "        self.assertEqual(Activity9_01.env.observation_space.shape[0],4)\n",
    "        self.assertEqual(Activity9_01.env.action_space.n,2)\n",
    "    def test_DQNShapes(self):\n",
    "        input_shape = Activity9_01.dqn_agent.dqn.fc1.in_features\n",
    "        self.assertEqual(input_shape,Activity9_01.env.observation_space.shape[0])\n",
    "        output_shape = Activity9_01.dqn_agent.dqn.fc2.out_features\n",
    "        self.assertEqual(output_shape,Activity9_01.env.action_space.n)\n",
    "    def test_TargetDQNShapes(self):\n",
    "        input_shape = Activity9_01.dqn_agent.target_dqn.fc1.in_features\n",
    "        self.assertEqual(input_shape,Activity9_01.env.observation_space.shape[0])\n",
    "        output_shape = Activity9_01.dqn_agent.target_dqn.fc2.out_features\n",
    "        self.assertEqual(output_shape,Activity9_01.env.action_space.n)"
   ]
  },
  {
   "cell_type": "code",
   "execution_count": 5,
   "metadata": {},
   "outputs": [
    {
     "name": "stderr",
     "output_type": "stream",
     "text": [
      "test_DQNShapes (__main__.myTest) ... ok\n",
      "test_EnvPropeties (__main__.myTest) ... ok\n",
      "test_TargetDQNShapes (__main__.myTest) ... ok\n",
      "\n",
      "----------------------------------------------------------------------\n",
      "Ran 3 tests in 0.003s\n",
      "\n",
      "OK\n"
     ]
    },
    {
     "data": {
      "text/plain": [
       "<unittest.main.TestProgram at 0x1559caab128>"
      ]
     },
     "execution_count": 5,
     "metadata": {},
     "output_type": "execute_result"
    }
   ],
   "source": [
    "unittest.main(argv=[''], verbosity=2, exit=False)"
   ]
  },
  {
   "cell_type": "code",
   "execution_count": null,
   "metadata": {},
   "outputs": [],
   "source": []
  }
 ],
 "metadata": {
  "kernelspec": {
   "display_name": "Python 3",
   "language": "python",
   "name": "python3"
  },
  "language_info": {
   "codemirror_mode": {
    "name": "ipython",
    "version": 3
   },
   "file_extension": ".py",
   "mimetype": "text/x-python",
   "name": "python",
   "nbconvert_exporter": "python",
   "pygments_lexer": "ipython3",
   "version": "3.7.3"
  }
 },
 "nbformat": 4,
 "nbformat_minor": 2
}

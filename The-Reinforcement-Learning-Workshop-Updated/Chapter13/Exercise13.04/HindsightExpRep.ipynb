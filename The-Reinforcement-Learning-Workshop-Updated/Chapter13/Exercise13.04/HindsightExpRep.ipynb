{
 "cells": [
  {
   "cell_type": "code",
   "execution_count": 272,
   "metadata": {},
   "outputs": [],
   "source": [
    "#import packages\n",
    "from collections import deque\n",
    "import numpy as np\n",
    "import gym"
   ]
  },
  {
   "cell_type": "code",
   "execution_count": 282,
   "metadata": {},
   "outputs": [],
   "source": [
    "class HindsightExpRep:\n",
    "    #initialize buffer\n",
    "    def __init__(self, m):\n",
    "        self.buffer = deque()\n",
    "        self.no = m\n",
    "    \n",
    "    #reset buffer\n",
    "    def renew(self):\n",
    "        self.buffer = deque()\n",
    "    \n",
    "    #append sample to buffer\n",
    "    def append_sample(self, sample):\n",
    "        self.buffer.append(sample)\n",
    "    \n",
    "    # function for setting the previous sets as goals\n",
    "    def hindsight(self):\n",
    "        length = len(self.buffer)\n",
    "        target = self.buffer[-1][-2][0:self.no]\n",
    "        for le in range(length):\n",
    "            self.buffer[-1-le][2] = -1.0\n",
    "            self.buffer[-1-le][-2][self.no:] = [target]\n",
    "            self.buffer[-1-le][0][self.no:] = [target]\n",
    "            self.buffer[-1-le][4] = False\n",
    "            if (np.sum(np.abs(self.buffer[-1-le][-2][self.no:] - target[0]))==0):\n",
    "                self.buffer[-1-le][2] = 0.0\n",
    "                self.buffer[-1-le][4] = True\n",
    "            print(self.buffer)\n",
    "        return self.buffer"
   ]
  },
  {
   "cell_type": "code",
   "execution_count": 287,
   "metadata": {},
   "outputs": [
    {
     "name": "stdout",
     "output_type": "stream",
     "text": [
      "deque([[array([-0.58623087,  0.        ]), 1, 0.0, array([-0.56759566,  0.00512722]), True]])\n"
     ]
    }
   ],
   "source": [
    "m = 5\n",
    "env = gym.make(\"MountainCar-v0\")\n",
    "no_acts = env.action_space.n\n",
    "current_state= env.reset()\n",
    "her = HindsightExpRep(m)\n",
    "\n",
    "for j in range(m):\n",
    "    her.renew()\n",
    "    action = env.action_space.sample()\n",
    "    new_state, reward, done, _ = env.step(action)\n",
    "    sample = [current_state, action, reward,new_state, done]\n",
    "#     print(current_state[0].squeeze(0).numpy())\n",
    "#     print(new_state.squeeze())\n",
    "    if (done == True):\n",
    "        her.append_sample(sample)\n",
    "    her.append_sample(sample)\n",
    "\n",
    "mem_list = her.hindsight()\n",
    "\n",
    "\n"
   ]
  }
 ],
 "metadata": {
  "kernelspec": {
   "display_name": "Python 3",
   "language": "python",
   "name": "python3"
  },
  "language_info": {
   "codemirror_mode": {
    "name": "ipython",
    "version": 3
   },
   "file_extension": ".py",
   "mimetype": "text/x-python",
   "name": "python",
   "nbconvert_exporter": "python",
   "pygments_lexer": "ipython3",
   "version": "3.7.3"
  }
 },
 "nbformat": 4,
 "nbformat_minor": 1
}

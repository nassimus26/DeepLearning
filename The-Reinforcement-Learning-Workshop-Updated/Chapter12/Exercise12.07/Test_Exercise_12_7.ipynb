{
 "cells": [
  {
   "cell_type": "code",
   "execution_count": 25,
   "metadata": {},
   "outputs": [],
   "source": [
    "import unittest\n",
    "import import_ipynb\n",
    "import numpy as np\n",
    "\n",
    "class TestExercise12_7(unittest.TestCase):\n",
    "    def setUp(self):\n",
    "        import Exercise_12_7\n",
    "        self.exercises = Exercise_12_7\n",
    "        data = self.exercises.data\n",
    "        self.assertEqual(len(data), 1500)\n",
    "    \n",
    "    def test_format(self):\n",
    "        window = 22\n",
    "        x, y = self.exercises.format_dataset(self.exercises.data, window)\n",
    "        self.assertEqual(len(x), len(y))\n",
    "       \n",
    "        \n",
    "    def test_training_hyperparameters(self):\n",
    "        print(self.exercises.training_hyperparameters(np.array([12,3,4])))\n",
    "        \n",
    "        \n"
   ]
  },
  {
   "cell_type": "code",
   "execution_count": 26,
   "metadata": {},
   "outputs": [
    {
     "name": "stderr",
     "output_type": "stream",
     "text": [
      "test_format (__main__.TestExercise12_7) ... ok\n",
      "test_training_hyperparameters (__main__.TestExercise12_7) ... ERROR\n",
      "\n",
      "======================================================================\n",
      "ERROR: test_training_hyperparameters (__main__.TestExercise12_7)\n",
      "----------------------------------------------------------------------\n",
      "Traceback (most recent call last):\n",
      "  File \"<ipython-input-25-4e4bcb936c84>\", line 19, in test_training_hyperparameters\n",
      "    print(self.exercises.training_hyperparameters(np.array([1,2,3,4])))\n",
      "  File \"<string>\", line 7, in training_hyperparameters\n",
      "  File \"c:\\users\\ac7413\\appdata\\local\\programs\\python\\python37\\lib\\site-packages\\bitstring.py\", line 1480, in _getuint\n",
      "    return self._readuint(self.len, 0)\n",
      "  File \"c:\\users\\ac7413\\appdata\\local\\programs\\python\\python37\\lib\\site-packages\\bitstring.py\", line 1463, in _readuint\n",
      "    raise InterpretError(\"Cannot interpret a zero length bitstring \"\n",
      "bitstring.InterpretError: Cannot interpret a zero length bitstring as an integer.\n",
      "\n",
      "----------------------------------------------------------------------\n",
      "Ran 2 tests in 0.048s\n",
      "\n",
      "FAILED (errors=1)\n"
     ]
    },
    {
     "data": {
      "text/plain": [
       "<unittest.runner.TextTestResult run=2 errors=1 failures=0>"
      ]
     },
     "execution_count": 26,
     "metadata": {},
     "output_type": "execute_result"
    }
   ],
   "source": [
    "suite = unittest.TestLoader().loadTestsFromTestCase(TestExercise12_7)\n",
    "unittest.TextTestRunner(verbosity=2).run(suite)"
   ]
  }
 ],
 "metadata": {
  "kernelspec": {
   "display_name": "Python 3",
   "language": "python",
   "name": "python3"
  },
  "language_info": {
   "codemirror_mode": {
    "name": "ipython",
    "version": 3
   },
   "file_extension": ".py",
   "mimetype": "text/x-python",
   "name": "python",
   "nbconvert_exporter": "python",
   "pygments_lexer": "ipython3",
   "version": "3.7.3"
  }
 },
 "nbformat": 4,
 "nbformat_minor": 1
}
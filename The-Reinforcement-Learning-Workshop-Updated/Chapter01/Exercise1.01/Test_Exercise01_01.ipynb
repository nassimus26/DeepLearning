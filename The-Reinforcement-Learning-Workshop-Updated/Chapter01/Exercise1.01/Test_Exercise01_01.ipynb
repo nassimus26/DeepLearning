{
 "cells": [
  {
   "cell_type": "code",
   "execution_count": 1,
   "metadata": {},
   "outputs": [],
   "source": [
    "import import_ipynb\n",
    "import unittest\n",
    "\n",
    "class TestExercise01_01(unittest.TestCase):\n",
    "    def setUp(self):\n",
    "        import Exercise01_01\n",
    "        self.exercise = Exercise01_01\n",
    "        self.env = self.exercise.Environment()\n",
    "    \n",
    "    def test_initial_state(self):\n",
    "        print(\"Testing Initial State\")\n",
    "        self.assertEqual(self.env.reset(), 1)\n",
    "    \n",
    "    def test_transition(self):\n",
    "        print(\"Testing Transition\")\n",
    "        self.env.reset()\n",
    "        self.assertEqual(self.env.step(0), (2, 1))\n",
    "        self.assertEqual(self.env.step(0), (1, 0))\n",
    "        self.assertEqual(self.env.step(1), (3, 10))\n",
    "        self.assertEqual(self.env.step(1), (3, 10))\n",
    "        self.assertEqual(self.env.step(0), (2, 0))\n",
    "        self.assertEqual(self.env.step(1), (3, 1))"
   ]
  },
  {
   "cell_type": "code",
   "execution_count": 2,
   "metadata": {},
   "outputs": [
    {
     "name": "stderr",
     "output_type": "stream",
     "text": [
      "test_initial_state (__main__.TestExercise01_01) ... ok\n",
      "test_transition (__main__.TestExercise01_01) ... "
     ]
    },
    {
     "name": "stdout",
     "output_type": "stream",
     "text": [
      "importing Jupyter notebook from Exercise01_01.ipynb\n",
      "Testing Initial State\n",
      "Testing Transition\n"
     ]
    },
    {
     "name": "stderr",
     "output_type": "stream",
     "text": [
      "ok\n",
      "\n",
      "----------------------------------------------------------------------\n",
      "Ran 2 tests in 0.024s\n",
      "\n",
      "OK\n"
     ]
    },
    {
     "data": {
      "text/plain": [
       "<unittest.runner.TextTestResult run=2 errors=0 failures=0>"
      ]
     },
     "execution_count": 2,
     "metadata": {},
     "output_type": "execute_result"
    }
   ],
   "source": [
    "suite = unittest.TestLoader().loadTestsFromTestCase(TestExercise01_01)\n",
    "unittest.TextTestRunner(verbosity=2).run(suite)"
   ]
  }
 ],
 "metadata": {
  "kernelspec": {
   "display_name": "Python 3",
   "language": "python",
   "name": "python3"
  },
  "language_info": {
   "codemirror_mode": {
    "name": "ipython",
    "version": 3
   },
   "file_extension": ".py",
   "mimetype": "text/x-python",
   "name": "python",
   "nbconvert_exporter": "python",
   "pygments_lexer": "ipython3",
   "version": "3.6.8"
  }
 },
 "nbformat": 4,
 "nbformat_minor": 4
}

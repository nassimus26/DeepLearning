{
 "cells": [
  {
   "cell_type": "code",
   "execution_count": 5,
   "metadata": {},
   "outputs": [],
   "source": [
    "import gym\n",
    "\n",
    "import matplotlib.pyplot as plt\n",
    "%matplotlib inline"
   ]
  },
  {
   "cell_type": "code",
   "execution_count": 6,
   "metadata": {},
   "outputs": [
    {
     "name": "stdout",
     "output_type": "stream",
     "text": [
      "Episode Number: 0, Timesteps: 28\n",
      "Episode Number: 1, Timesteps: 14\n",
      "Episode Number: 2, Timesteps: 18\n",
      "Episode Number: 3, Timesteps: 15\n",
      "Episode Number: 4, Timesteps: 8\n",
      "Episode Number: 5, Timesteps: 55\n",
      "Episode Number: 6, Timesteps: 20\n",
      "Episode Number: 7, Timesteps: 24\n",
      "Episode Number: 8, Timesteps: 9\n",
      "Episode Number: 9, Timesteps: 28\n"
     ]
    }
   ],
   "source": [
    "env = gym.make(\"CartPole-v1\")\n",
    "\n",
    "# each episode is composed by 100 timesteps\n",
    "# define 10 episodes\n",
    "n_episodes = 10\n",
    "n_timesteps = 100\n",
    "\n",
    "# loop for the episodes\n",
    "for episode_number in range(n_episodes):\n",
    "    # here we are inside an episode\n",
    "\n",
    "    # the reset function resets the environment and returns\n",
    "    # the first environment observation\n",
    "    observation = env.reset()\n",
    "\n",
    "    # loop for the given number of timesteps or\n",
    "    # until the episode is terminated\n",
    "    for timestep_number in range(n_timesteps):\n",
    "        \n",
    "        # render the environment\n",
    "        env.render(mode=\"rgb-array\")\n",
    "\n",
    "        # select the action\n",
    "        action = env.action_space.sample()\n",
    "\n",
    "        # apply the selected action by calling env.step\n",
    "        observation, reward, done, info = env.step(action)\n",
    "\n",
    "        # if done the episode is terminated, we have to reset\n",
    "        # the environment\n",
    "        if done:\n",
    "            print(f\"Episode Number: {episode_number}, Timesteps: {timestep_number}\")\n",
    "            # break from the timestep loop\n",
    "            break\n",
    "\n",
    "# close the environment\n",
    "env.close()"
   ]
  }
 ],
 "metadata": {
  "kernelspec": {
   "display_name": "Python 3",
   "language": "python",
   "name": "python3"
  },
  "language_info": {
   "codemirror_mode": {
    "name": "ipython",
    "version": 3
   },
   "file_extension": ".py",
   "mimetype": "text/x-python",
   "name": "python",
   "nbconvert_exporter": "python",
   "pygments_lexer": "ipython3",
   "version": "3.6.8"
  }
 },
 "nbformat": 4,
 "nbformat_minor": 4
}
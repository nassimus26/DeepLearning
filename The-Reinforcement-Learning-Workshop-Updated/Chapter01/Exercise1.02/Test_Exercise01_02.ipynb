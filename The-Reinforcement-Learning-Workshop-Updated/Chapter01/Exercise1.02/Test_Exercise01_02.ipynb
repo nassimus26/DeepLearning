{
 "cells": [
  {
   "cell_type": "code",
   "execution_count": 1,
   "metadata": {},
   "outputs": [],
   "source": [
    "import import_ipynb\n",
    "import numpy as np\n",
    "import unittest\n",
    "\n",
    "\n",
    "class TestExercise01_02(unittest.TestCase):\n",
    "    def setUp(self):\n",
    "        import Exercise01_02\n",
    "\n",
    "        self.exercise = Exercise01_02\n",
    "\n",
    "    def test_linear_policy(self):\n",
    "        print(\"Testing Linear Policy\")\n",
    "        # sample a random set of parameters\n",
    "        parameters = np.random.rand(5, 1)\n",
    "\n",
    "        # define the state features as identity function\n",
    "        features = lambda x: x\n",
    "\n",
    "        # define the policy\n",
    "        pi: self.exercise.LinearPolicy = self.exercise.LinearPolicy(\n",
    "            parameters, features\n",
    "        )\n",
    "\n",
    "        # sample a state\n",
    "        state = np.random.rand(5, 1)\n",
    "\n",
    "        # Call the policy obtaining the action\n",
    "        action = pi(state)\n",
    "\n",
    "        self.assertEqual(action.shape, (1, 1))\n",
    "\n",
    "    def test_gaussian_policy(self):\n",
    "        print(\"Testing Gaussian Policy\")\n",
    "        # sample a random set of parameters\n",
    "        mu_parameters = np.random.rand(5, 1)\n",
    "        sigma_parameters = np.random.rand(5, 1)\n",
    "\n",
    "        # define the state features as identity function\n",
    "        features = lambda x: x\n",
    "\n",
    "        # define the policy\n",
    "        pi: self.exercise.GaussianPolicy = self.exercise.GaussianPolicy(\n",
    "            mu_parameters, sigma_parameters, features\n",
    "        )\n",
    "\n",
    "        # sample a state\n",
    "        state = np.random.rand(5, 1)\n",
    "\n",
    "        # Call the policy obtaining the action\n",
    "        action = pi(state)\n",
    "\n",
    "        self.assertEqual(action.shape, (1, 1))\n",
    "\n",
    "    def test_boltzmann_policy(self):\n",
    "        n_actions = 3\n",
    "        # sample a random set of parameters for each action\n",
    "        parameters = [np.random.rand(5, 1) for _ in range(n_actions)]\n",
    "\n",
    "        # define the state features as identity function\n",
    "        features = lambda x: x\n",
    "\n",
    "        # define the policy\n",
    "        pi: self.exercise.BoltzmannPolicy = self.exercise.BoltzmannPolicy(\n",
    "            parameters, features\n",
    "        )\n",
    "\n",
    "        # sample a state\n",
    "        state = np.random.rand(5, 1)\n",
    "\n",
    "        # Call the policy obtaining the action\n",
    "        action = pi(state)\n",
    "        self.assertTrue(action in range(3))"
   ]
  },
  {
   "cell_type": "code",
   "execution_count": 2,
   "metadata": {},
   "outputs": [
    {
     "name": "stderr",
     "output_type": "stream",
     "text": [
      "test_boltzmann_policy (__main__.TestExercise01_02) ... "
     ]
    },
    {
     "name": "stdout",
     "output_type": "stream",
     "text": [
      "importing Jupyter notebook from Exercise01_02.ipynb\n"
     ]
    },
    {
     "name": "stderr",
     "output_type": "stream",
     "text": [
      "ok\n",
      "test_gaussian_policy (__main__.TestExercise01_02) ... ok\n",
      "test_linear_policy (__main__.TestExercise01_02) ... "
     ]
    },
    {
     "name": "stdout",
     "output_type": "stream",
     "text": [
      "[[0.72539529]]\n",
      "[[0.51966437]]\n",
      "Selected Action is 1\n",
      "Selected action is 2\n",
      "Selected action is 1\n",
      "Selected action is 1\n",
      "Selected action is 1\n",
      "Selected action is 2\n",
      "Selected action is 1\n",
      "Selected action is 0\n",
      "Selected action is 0\n",
      "Selected action is 0\n",
      "Selected action is 0\n",
      "Testing Gaussian Policy\n",
      "Testing Linear Policy\n"
     ]
    },
    {
     "name": "stderr",
     "output_type": "stream",
     "text": [
      "ok\n",
      "\n",
      "----------------------------------------------------------------------\n",
      "Ran 3 tests in 1.073s\n",
      "\n",
      "OK\n"
     ]
    },
    {
     "data": {
      "text/plain": [
       "<unittest.runner.TextTestResult run=3 errors=0 failures=0>"
      ]
     },
     "execution_count": 2,
     "metadata": {},
     "output_type": "execute_result"
    },
    {
     "data": {
      "image/png": "[encoded data removed]",
      "text/plain": [
       "<Figure size 432x288 with 1 Axes>"
      ]
     },
     "metadata": {
      "needs_background": "light"
     },
     "output_type": "display_data"
    }
   ],
   "source": [
    "suite = unittest.TestLoader().loadTestsFromTestCase(TestExercise01_02)\n",
    "unittest.TextTestRunner(verbosity=2).run(suite)"
   ]
  }
 ],
 "metadata": {
  "kernelspec": {
   "display_name": "Python 3",
   "language": "python",
   "name": "python3"
  },
  "language_info": {
   "codemirror_mode": {
    "name": "ipython",
    "version": 3
   },
   "file_extension": ".py",
   "mimetype": "text/x-python",
   "name": "python",
   "nbconvert_exporter": "python",
   "pygments_lexer": "ipython3",
   "version": "3.6.8"
  }
 },
 "nbformat": 4,
 "nbformat_minor": 4
}

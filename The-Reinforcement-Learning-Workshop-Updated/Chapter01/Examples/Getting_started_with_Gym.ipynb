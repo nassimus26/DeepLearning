{
 "cells": [
  {
   "cell_type": "code",
   "execution_count": 1,
   "metadata": {},
   "outputs": [
    {
     "ename": "ModuleNotFoundError",
     "evalue": "No module named 'gym'",
     "output_type": "error",
     "traceback": [
      "\u001B[1;31m---------------------------------------------------------------------------\u001B[0m",
      "\u001B[1;31mModuleNotFoundError\u001B[0m                       Traceback (most recent call last)",
      "\u001B[1;32m<ipython-input-1-737f484db8cc>\u001B[0m in \u001B[0;36m<module>\u001B[1;34m\u001B[0m\n\u001B[0;32m      1\u001B[0m \u001B[1;31m# Import Gym Library\u001B[0m\u001B[1;33m\u001B[0m\u001B[1;33m\u001B[0m\u001B[1;33m\u001B[0m\u001B[0m\n\u001B[1;32m----> 2\u001B[1;33m \u001B[1;32mimport\u001B[0m \u001B[0mgym\u001B[0m\u001B[1;33m\u001B[0m\u001B[1;33m\u001B[0m\u001B[0m\n\u001B[0m\u001B[0;32m      3\u001B[0m \u001B[1;33m\u001B[0m\u001B[0m\n\u001B[0;32m      4\u001B[0m \u001B[1;31m# Create the environment using gym.make(env_name)\u001B[0m\u001B[1;33m\u001B[0m\u001B[1;33m\u001B[0m\u001B[1;33m\u001B[0m\u001B[0m\n\u001B[0;32m      5\u001B[0m \u001B[0menv\u001B[0m \u001B[1;33m=\u001B[0m \u001B[0mgym\u001B[0m\u001B[1;33m.\u001B[0m\u001B[0mmake\u001B[0m\u001B[1;33m(\u001B[0m\u001B[1;34m'CartPole-v1'\u001B[0m\u001B[1;33m)\u001B[0m\u001B[1;33m\u001B[0m\u001B[1;33m\u001B[0m\u001B[0m\n",
      "\u001B[1;31mModuleNotFoundError\u001B[0m: No module named 'gym'"
     ]
    }
   ],
   "source": [
    "# Import Gym Library\n",
    "import gym\n",
    "\n",
    "# Create the environment using gym.make(env_name)\n",
    "env = gym.make('CartPole-v1')\n",
    "\n",
    "# Analyze the action space of cart pole using the property action_space\n",
    "print(\"Action Space:\", env.action_space)\n",
    "\n",
    "# Analyze the observation space of cartpole using the property observation_space\n",
    "print(\"Observation Space:\", env.observation_space)"
   ]
  },
  {
   "cell_type": "code",
   "execution_count": null,
   "metadata": {},
   "outputs": [],
   "source": [
    "# Analyze the bounds of the observation space\n",
    "print(\"Lower bound of the Observation Space:\", env.observation_space.low)\n",
    "print(\"Upper bound of the Observation Space:\", env.observation_space.high)"
   ]
  },
  {
   "cell_type": "code",
   "execution_count": null,
   "metadata": {},
   "outputs": [],
   "source": [
    "# Type hinting\n",
    "from typing import Tuple\n",
    "\n",
    "# Import the spaces module\n",
    "from gym import spaces"
   ]
  },
  {
   "cell_type": "code",
   "execution_count": null,
   "metadata": {},
   "outputs": [],
   "source": [
    "# Create a discrete space composed by N-elements (5)\n",
    "n: int = 5\n",
    "discrete_space = spaces.Discrete(n=n)\n",
    "\n",
    "# Sample from the space using .sample method\n",
    "print(\"Discrete Space Sample:\", discrete_space.sample())\n",
    "\n",
    "# Create a Box space with a shape of (4, 4)\n",
    "# Upper and lower Bound are 0 and 1\n",
    "box_shape: Tuple[int, int] = (4, 4)\n",
    "box_space = spaces.Box(low=0, high=1, shape=box_shape)\n",
    "\n",
    "# Sample from the space using .sample method\n",
    "print(\"Box Space Sample:\", box_space.sample())"
   ]
  },
  {
   "cell_type": "code",
   "execution_count": null,
   "metadata": {},
   "outputs": [],
   "source": [
    "# Seed spaces to obtain reproducible samples\n",
    "discrete_space.seed(0)\n",
    "box_space.seed(0)\n",
    "\n",
    "# Sample from the seeded space\n",
    "print(\"Discrete Space (seed=0) Sample:\", discrete_space.sample())\n",
    "\n",
    "# Sample from the seeded space\n",
    "print(\"Box Space (seed=0) Sample:\", box_space.sample())"
   ]
  },
  {
   "cell_type": "code",
   "execution_count": null,
   "metadata": {},
   "outputs": [],
   "source": [
    "# Create the environment using gym.make(env_name)\n",
    "env = gym.make(\"CartPole-v1\")\n",
    "\n",
    "# reset the environment (mandatory)\n",
    "env.reset()\n",
    "\n",
    "# render the environment for 100 steps\n",
    "n_steps = 1000\n",
    "for i in range(n_steps):\n",
    "    action = env.action_space.sample()\n",
    "    env.step(action)\n",
    "    env.render()\n",
    "\n",
    "env.close()"
   ]
  }
 ],
 "metadata": {
  "kernelspec": {
   "display_name": "Python 3",
   "language": "python",
   "name": "python3"
  },
  "language_info": {
   "codemirror_mode": {
    "name": "ipython",
    "version": 3
   },
   "file_extension": ".py",
   "mimetype": "text/x-python",
   "name": "python",
   "nbconvert_exporter": "python",
   "pygments_lexer": "ipython3",
   "version": "3.7.4"
  }
 },
 "nbformat": 4,
 "nbformat_minor": 4
}
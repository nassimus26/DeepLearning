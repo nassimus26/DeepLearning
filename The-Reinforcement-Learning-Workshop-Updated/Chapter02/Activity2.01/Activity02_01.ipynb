{
 "cells": [
  {
   "cell_type": "code",
   "execution_count": 1,
   "metadata": {},
   "outputs": [],
   "source": [
    "from enum import Enum, auto\n",
    "import matplotlib.pyplot as plt\n",
    "import numpy as np\n",
    "from scipy import linalg\n",
    "from typing import Tuple"
   ]
  },
  {
   "cell_type": "code",
   "execution_count": 2,
   "metadata": {},
   "outputs": [],
   "source": [
    "# helper function\n",
    "def vis_matrix(M, cmap=plt.cm.Blues):\n",
    "    fig, ax = plt.subplots()\n",
    "    ax.matshow(M, cmap=cmap)\n",
    "    for i in range(M.shape[0]):\n",
    "        for j in range(M.shape[1]):\n",
    "            c = M[j, i]\n",
    "            ax.text(i, j, \"%.2f\" % c, va=\"center\", ha=\"center\")"
   ]
  },
  {
   "cell_type": "code",
   "execution_count": 3,
   "metadata": {},
   "outputs": [],
   "source": [
    "# Define the actions\n",
    "class Action(Enum):\n",
    "    UP = auto()\n",
    "    DOWN = auto()\n",
    "    LEFT = auto()\n",
    "    RIGHT = auto()\n",
    "\n",
    "\n",
    "# Agent Policy, random\n",
    "class Policy:\n",
    "    def __init__(self):\n",
    "        self._possible_actions = [action for action in Action]\n",
    "        self._action_probs = {\n",
    "            a: 1 / len(self._possible_actions) for a in self._possible_actions\n",
    "        }\n",
    "\n",
    "    def __call__(self, state: Tuple[int, int], action: Action) -> float:\n",
    "        \"\"\"\n",
    "        Returns the action probability\n",
    "        \"\"\"\n",
    "        assert action in self._possible_actions\n",
    "        # state is unused for this policy\n",
    "        return self._action_probs[action]"
   ]
  },
  {
   "cell_type": "code",
   "execution_count": 4,
   "metadata": {},
   "outputs": [],
   "source": [
    "class Environment:\n",
    "    def __init__(self):\n",
    "        self.grid_width = 5\n",
    "        self.grid_height = 5\n",
    "        self._good_state1 = (0, 1)\n",
    "        self._good_state2 = (0, 3)\n",
    "        self._to_state1 = (4, 2)\n",
    "        self._to_state2 = (2, 3)\n",
    "        self._bad_state1 = (1, 1)\n",
    "        self._bad_state2 = (4, 4)\n",
    "        self._bad_states = [self._bad_state1, self._bad_state2]\n",
    "        self._good_states = [self._good_state1, self._good_state2]\n",
    "        self._to_states = [self._to_state1, self._to_state2]\n",
    "        self._good_rewards = [10, 5]\n",
    "\n",
    "    def step(self, state, action):\n",
    "        i, j = state\n",
    "        for good_state, reward, to_state in zip(\n",
    "            self._good_states, self._good_rewards, self._to_states\n",
    "        ):\n",
    "            if (i, j) == good_state:\n",
    "                return (to_state, reward)\n",
    "        reward = 0\n",
    "        if state in self._bad_states:\n",
    "            reward = -1\n",
    "        if action == Action.LEFT:\n",
    "            j_next = max(j - 1, 0)\n",
    "            i_next = i\n",
    "            if j - 1 < 0:\n",
    "                reward = -1\n",
    "        elif action == Action.RIGHT:\n",
    "            j_next = min(j + 1, self.grid_width - 1)\n",
    "            i_next = i\n",
    "            if j + 1 > self.grid_width - 1:\n",
    "                reward = -1\n",
    "        elif action == Action.UP:\n",
    "            j_next = j\n",
    "            i_next = max(i - 1, 0)\n",
    "            if i - 1 < 0:\n",
    "                reward = -1\n",
    "        elif action == Action.DOWN:\n",
    "            j_next = j\n",
    "            i_next = min(i + 1, self.grid_height - 1)\n",
    "            if i + 1 > self.grid_height - 1:\n",
    "                reward = -1\n",
    "        else:\n",
    "            raise ValueError(\"Invalid action\")\n",
    "        return ((i_next, j_next), reward)"
   ]
  },
  {
   "cell_type": "code",
   "execution_count": 5,
   "metadata": {},
   "outputs": [],
   "source": [
    "pi = Policy()\n",
    "env = Environment()\n",
    "\n",
    "# setup probability matrix and reward matrix\n",
    "P = np.zeros((env.grid_width * env.grid_height, env.grid_width * env.grid_height))\n",
    "R = np.zeros_like(P)\n",
    "possible_actions = [action for action in Action]\n",
    "\n",
    "# Loop for all states and fill up P and R\n",
    "for i in range(env.grid_height):\n",
    "    for j in range(env.grid_width):\n",
    "        state = (i, j)\n",
    "        # loop for all action and setup P and R\n",
    "        for action in possible_actions:\n",
    "            next_state, reward = env.step(state, action)\n",
    "            (i_next, j_next) = next_state\n",
    "            P[i * env.grid_width + j, i_next * env.grid_width + j_next] += pi(\n",
    "                state, action\n",
    "            )\n",
    "            # the reward depends only on the starting state and the final state\n",
    "            R[i * env.grid_width + j, i_next * env.grid_width + j_next] = reward"
   ]
  },
  {
   "cell_type": "code",
   "execution_count": 6,
   "metadata": {},
   "outputs": [],
   "source": [
    "# check the correctness\n",
    "assert((np.sum(P, axis=1) == 1).all())"
   ]
  },
  {
   "cell_type": "code",
   "execution_count": 7,
   "metadata": {},
   "outputs": [],
   "source": [
    "# expected reward for each state\n",
    "R_expected = np.sum(P * R, axis=1, keepdims=True)"
   ]
  },
  {
   "cell_type": "code",
   "execution_count": 8,
   "metadata": {},
   "outputs": [
    {
     "data": {
      "image/png": "[encoded data removed]",
      "text/plain": [
       "<Figure size 432x288 with 1 Axes>"
      ]
     },
     "metadata": {
      "needs_background": "light"
     },
     "output_type": "display_data"
    }
   ],
   "source": [
    "# reshape the state values in a matrix\n",
    "R_square = R_expected.reshape((env.grid_height,env.grid_width))\n",
    "# Visualize\n",
    "vis_matrix(R_square, cmap=plt.cm.Reds)"
   ]
  },
  {
   "cell_type": "code",
   "execution_count": 9,
   "metadata": {},
   "outputs": [],
   "source": [
    "# define the discount factor\n",
    "gamma = 0.9"
   ]
  },
  {
   "cell_type": "code",
   "execution_count": 10,
   "metadata": {},
   "outputs": [],
   "source": [
    "# Now it is possible to solve the Bellman Equation\n",
    "A = np.eye(env.grid_width*env.grid_height) - gamma * P\n",
    "B = R_expected"
   ]
  },
  {
   "cell_type": "code",
   "execution_count": 11,
   "metadata": {},
   "outputs": [],
   "source": [
    "# solve using scipy linalg\n",
    "V = linalg.solve(A, B)"
   ]
  },
  {
   "cell_type": "code",
   "execution_count": 12,
   "metadata": {},
   "outputs": [
    {
     "data": {
      "image/png": "[encoded data removed]",
      "text/plain": [
       "<Figure size 432x288 with 1 Axes>"
      ]
     },
     "metadata": {
      "needs_background": "light"
     },
     "output_type": "display_data"
    }
   ],
   "source": [
    "# reshape the state values in a matrix\n",
    "V_square = V.reshape((env.grid_height,env.grid_width))\n",
    "# visualize results\n",
    "vis_matrix(V_square, cmap=plt.cm.Reds)"
   ]
  }
 ],
 "metadata": {
  "kernelspec": {
   "display_name": "Python 3",
   "language": "python",
   "name": "python3"
  },
  "language_info": {
   "codemirror_mode": {
    "name": "ipython",
    "version": 3
   },
   "file_extension": ".py",
   "mimetype": "text/x-python",
   "name": "python",
   "nbconvert_exporter": "python",
   "pygments_lexer": "ipython3",
   "version": "3.7.4"
  }
 },
 "nbformat": 4,
 "nbformat_minor": 4
}

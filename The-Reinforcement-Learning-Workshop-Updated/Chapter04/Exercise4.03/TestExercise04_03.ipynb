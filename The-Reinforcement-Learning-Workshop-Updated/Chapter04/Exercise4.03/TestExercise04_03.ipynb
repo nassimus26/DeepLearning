{
 "cells": [
  {
   "cell_type": "code",
   "execution_count": null,
   "metadata": {},
   "outputs": [],
   "source": [
    "import unittest\n",
    "import import_ipynb\n",
    "import pandas as pd\n",
    "import pandas.testing as pd_testing\n",
    "import tensorflow as tf\n",
    "\n",
    "class TestExercise04_03(unittest.TestCase):\n",
    "    def setUp(self):\n",
    "        import Exercise04_03\n",
    "        self.exercises = Exercise04_03"
   ]
  },
  {
   "cell_type": "code",
   "execution_count": null,
   "metadata": {},
   "outputs": [],
   "source": [
    "suite = unittest.TestLoader().loadTestsFromTestCase(TestExercise04_03)\n",
    "unittest.TextTestRunner(verbosity=2).run(suite)"
   ]
  }
 ],
 "metadata": {
  "kernelspec": {
   "display_name": "Python 3",
   "language": "python",
   "name": "python3"
  },
  "language_info": {
   "codemirror_mode": {
    "name": "ipython",
    "version": 3
   },
   "file_extension": ".py",
   "mimetype": "text/x-python",
   "name": "python",
   "nbconvert_exporter": "python",
   "pygments_lexer": "ipython3",
   "version": "3.7.4"
  }
 },
 "nbformat": 4,
 "nbformat_minor": 4
}
